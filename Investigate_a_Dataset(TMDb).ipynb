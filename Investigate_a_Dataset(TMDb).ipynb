{
 "cells": [
  {
   "cell_type": "markdown",
   "metadata": {},
   "source": [
    "\n",
    "\n",
    "#                  Project: Investigate a Dataset (TMDb movie data)\n",
    "\n",
    "## Table of Contents\n",
    "<ul>\n",
    "<li><a href=\"#intro\">Introduction</a></li>\n",
    "<li><a href=\"#wrangling\">Data Wrangling</a></li>\n",
    "<li><a href=\"#eda\">Exploratory Data Analysis</a></li>\n",
    "<li><a href=\"#conclusions\">Conclusions</a></li>\n",
    "</ul>"
   ]
  },
  {
   "cell_type": "markdown",
   "metadata": {},
   "source": [
    "<a id='intro'></a>\n",
    "## Introduction\n",
    "\n",
    "> What can we say about the importance of Cinema's Industry? and its effect on the economy of the producing countries ? What can we say about the social effect on people and the fun we have while watching a movie.\n",
    "> I am interested in watching movies , it's one of my pleasuring fun and I've watched more than 500 movies , so I consider myself familiar with this industry.\n",
    "> Here we have a dataset to investigate \"TMDb Movie Database\" a dataset of about 5000 movies, here we can answer questions as;<br />\n",
    "<br />\n",
    "> **1. What rate of movie production over years for each movie genre?<br/>\n",
    "> 2. which are the highest profitable, rated, vote_count, popular movie genre?<br/>\n",
    "> 3. Top 10 Movies?:<br/>\n",
    ">..3A. What kinds of properties are associated with movies that have high revenues?<br />\n",
    ">..3B. What kinds of properties are associated with the most popular movies?<br/>\n",
    ">..3C. What kinds of properties are associated with the highest rated movies?<br/> \n",
    "> 4. Which companies made the overall highest revenue per year?<br />\n",
    "> 5. What is the relation between popularity and vote_count?<br />\n",
    "> 6. What is the relation between the vote_count and vote rate?<br />\n",
    "> 7. Is there  a relation between the budget and the runtime ?<br/>\n",
    "> 8. Is there  a relation between the budget and the revenue ?<br/>\n",
    "> 9. Most Popular Directors?<br/>\n",
    "> 10. Average Runtime?\n",
    "**\n",
    "\n"
   ]
  },
  {
   "cell_type": "code",
   "execution_count": 1,
   "metadata": {},
   "outputs": [],
   "source": [
    "import numpy as np\n",
    "import pandas as pd\n",
    "import matplotlib.pyplot as plt\n",
    "import seaborn as sns\n",
    "import os as os\n",
    "import re\n",
    "import json\n",
    "import datetime as dt\n",
    "%matplotlib inline\n"
   ]
  },
  {
   "cell_type": "markdown",
   "metadata": {},
   "source": [
    "<a id='wrangling'></a>\n",
    "## Data Wrangling\n",
    "\n",
    "\n",
    "### General Properties"
   ]
  },
  {
   "cell_type": "code",
   "execution_count": 2,
   "metadata": {},
   "outputs": [],
   "source": [
    "# Load your data and print out a few lines. Perform operations to inspect data\n",
    "#   types and look for instances of missing or possibly errant data.\n",
    "credits_df = pd.read_csv('tmdb_5000_credits.csv')\n",
    "movies_df = pd.read_csv('tmdb_5000_movies.csv')\n"
   ]
  },
  {
   "cell_type": "code",
   "execution_count": 3,
   "metadata": {},
   "outputs": [
    {
     "data": {
      "text/html": [
       "<div>\n",
       "<style scoped>\n",
       "    .dataframe tbody tr th:only-of-type {\n",
       "        vertical-align: middle;\n",
       "    }\n",
       "\n",
       "    .dataframe tbody tr th {\n",
       "        vertical-align: top;\n",
       "    }\n",
       "\n",
       "    .dataframe thead th {\n",
       "        text-align: right;\n",
       "    }\n",
       "</style>\n",
       "<table border=\"1\" class=\"dataframe\">\n",
       "  <thead>\n",
       "    <tr style=\"text-align: right;\">\n",
       "      <th></th>\n",
       "      <th>movie_id</th>\n",
       "      <th>title</th>\n",
       "      <th>cast</th>\n",
       "      <th>crew</th>\n",
       "    </tr>\n",
       "  </thead>\n",
       "  <tbody>\n",
       "    <tr>\n",
       "      <th>0</th>\n",
       "      <td>19995</td>\n",
       "      <td>Avatar</td>\n",
       "      <td>[{\"cast_id\": 242, \"character\": \"Jake Sully\", \"...</td>\n",
       "      <td>[{\"credit_id\": \"52fe48009251416c750aca23\", \"de...</td>\n",
       "    </tr>\n",
       "    <tr>\n",
       "      <th>1</th>\n",
       "      <td>285</td>\n",
       "      <td>Pirates of the Caribbean: At World's End</td>\n",
       "      <td>[{\"cast_id\": 4, \"character\": \"Captain Jack Spa...</td>\n",
       "      <td>[{\"credit_id\": \"52fe4232c3a36847f800b579\", \"de...</td>\n",
       "    </tr>\n",
       "    <tr>\n",
       "      <th>2</th>\n",
       "      <td>206647</td>\n",
       "      <td>Spectre</td>\n",
       "      <td>[{\"cast_id\": 1, \"character\": \"James Bond\", \"cr...</td>\n",
       "      <td>[{\"credit_id\": \"54805967c3a36829b5002c41\", \"de...</td>\n",
       "    </tr>\n",
       "    <tr>\n",
       "      <th>3</th>\n",
       "      <td>49026</td>\n",
       "      <td>The Dark Knight Rises</td>\n",
       "      <td>[{\"cast_id\": 2, \"character\": \"Bruce Wayne / Ba...</td>\n",
       "      <td>[{\"credit_id\": \"52fe4781c3a36847f81398c3\", \"de...</td>\n",
       "    </tr>\n",
       "    <tr>\n",
       "      <th>4</th>\n",
       "      <td>49529</td>\n",
       "      <td>John Carter</td>\n",
       "      <td>[{\"cast_id\": 5, \"character\": \"John Carter\", \"c...</td>\n",
       "      <td>[{\"credit_id\": \"52fe479ac3a36847f813eaa3\", \"de...</td>\n",
       "    </tr>\n",
       "  </tbody>\n",
       "</table>\n",
       "</div>"
      ],
      "text/plain": [
       "   movie_id                                     title  \\\n",
       "0     19995                                    Avatar   \n",
       "1       285  Pirates of the Caribbean: At World's End   \n",
       "2    206647                                   Spectre   \n",
       "3     49026                     The Dark Knight Rises   \n",
       "4     49529                               John Carter   \n",
       "\n",
       "                                                cast  \\\n",
       "0  [{\"cast_id\": 242, \"character\": \"Jake Sully\", \"...   \n",
       "1  [{\"cast_id\": 4, \"character\": \"Captain Jack Spa...   \n",
       "2  [{\"cast_id\": 1, \"character\": \"James Bond\", \"cr...   \n",
       "3  [{\"cast_id\": 2, \"character\": \"Bruce Wayne / Ba...   \n",
       "4  [{\"cast_id\": 5, \"character\": \"John Carter\", \"c...   \n",
       "\n",
       "                                                crew  \n",
       "0  [{\"credit_id\": \"52fe48009251416c750aca23\", \"de...  \n",
       "1  [{\"credit_id\": \"52fe4232c3a36847f800b579\", \"de...  \n",
       "2  [{\"credit_id\": \"54805967c3a36829b5002c41\", \"de...  \n",
       "3  [{\"credit_id\": \"52fe4781c3a36847f81398c3\", \"de...  \n",
       "4  [{\"credit_id\": \"52fe479ac3a36847f813eaa3\", \"de...  "
      ]
     },
     "execution_count": 3,
     "metadata": {},
     "output_type": "execute_result"
    }
   ],
   "source": [
    "credits_df.head()"
   ]
  },
  {
   "cell_type": "code",
   "execution_count": 4,
   "metadata": {
    "scrolled": true
   },
   "outputs": [
    {
     "data": {
      "text/html": [
       "<div>\n",
       "<style scoped>\n",
       "    .dataframe tbody tr th:only-of-type {\n",
       "        vertical-align: middle;\n",
       "    }\n",
       "\n",
       "    .dataframe tbody tr th {\n",
       "        vertical-align: top;\n",
       "    }\n",
       "\n",
       "    .dataframe thead th {\n",
       "        text-align: right;\n",
       "    }\n",
       "</style>\n",
       "<table border=\"1\" class=\"dataframe\">\n",
       "  <thead>\n",
       "    <tr style=\"text-align: right;\">\n",
       "      <th></th>\n",
       "      <th>budget</th>\n",
       "      <th>genres</th>\n",
       "      <th>homepage</th>\n",
       "      <th>id</th>\n",
       "      <th>keywords</th>\n",
       "      <th>original_language</th>\n",
       "      <th>original_title</th>\n",
       "      <th>overview</th>\n",
       "      <th>popularity</th>\n",
       "      <th>production_companies</th>\n",
       "      <th>production_countries</th>\n",
       "      <th>release_date</th>\n",
       "      <th>revenue</th>\n",
       "      <th>runtime</th>\n",
       "      <th>spoken_languages</th>\n",
       "      <th>status</th>\n",
       "      <th>tagline</th>\n",
       "      <th>title</th>\n",
       "      <th>vote_average</th>\n",
       "      <th>vote_count</th>\n",
       "    </tr>\n",
       "  </thead>\n",
       "  <tbody>\n",
       "    <tr>\n",
       "      <th>0</th>\n",
       "      <td>237000000</td>\n",
       "      <td>[{\"id\": 28, \"name\": \"Action\"}, {\"id\": 12, \"nam...</td>\n",
       "      <td>http://www.avatarmovie.com/</td>\n",
       "      <td>19995</td>\n",
       "      <td>[{\"id\": 1463, \"name\": \"culture clash\"}, {\"id\":...</td>\n",
       "      <td>en</td>\n",
       "      <td>Avatar</td>\n",
       "      <td>In the 22nd century, a paraplegic Marine is di...</td>\n",
       "      <td>150.437577</td>\n",
       "      <td>[{\"name\": \"Ingenious Film Partners\", \"id\": 289...</td>\n",
       "      <td>[{\"iso_3166_1\": \"US\", \"name\": \"United States o...</td>\n",
       "      <td>2009-12-10</td>\n",
       "      <td>2787965087</td>\n",
       "      <td>162.0</td>\n",
       "      <td>[{\"iso_639_1\": \"en\", \"name\": \"English\"}, {\"iso...</td>\n",
       "      <td>Released</td>\n",
       "      <td>Enter the World of Pandora.</td>\n",
       "      <td>Avatar</td>\n",
       "      <td>7.2</td>\n",
       "      <td>11800</td>\n",
       "    </tr>\n",
       "    <tr>\n",
       "      <th>1</th>\n",
       "      <td>300000000</td>\n",
       "      <td>[{\"id\": 12, \"name\": \"Adventure\"}, {\"id\": 14, \"...</td>\n",
       "      <td>http://disney.go.com/disneypictures/pirates/</td>\n",
       "      <td>285</td>\n",
       "      <td>[{\"id\": 270, \"name\": \"ocean\"}, {\"id\": 726, \"na...</td>\n",
       "      <td>en</td>\n",
       "      <td>Pirates of the Caribbean: At World's End</td>\n",
       "      <td>Captain Barbossa, long believed to be dead, ha...</td>\n",
       "      <td>139.082615</td>\n",
       "      <td>[{\"name\": \"Walt Disney Pictures\", \"id\": 2}, {\"...</td>\n",
       "      <td>[{\"iso_3166_1\": \"US\", \"name\": \"United States o...</td>\n",
       "      <td>2007-05-19</td>\n",
       "      <td>961000000</td>\n",
       "      <td>169.0</td>\n",
       "      <td>[{\"iso_639_1\": \"en\", \"name\": \"English\"}]</td>\n",
       "      <td>Released</td>\n",
       "      <td>At the end of the world, the adventure begins.</td>\n",
       "      <td>Pirates of the Caribbean: At World's End</td>\n",
       "      <td>6.9</td>\n",
       "      <td>4500</td>\n",
       "    </tr>\n",
       "    <tr>\n",
       "      <th>2</th>\n",
       "      <td>245000000</td>\n",
       "      <td>[{\"id\": 28, \"name\": \"Action\"}, {\"id\": 12, \"nam...</td>\n",
       "      <td>http://www.sonypictures.com/movies/spectre/</td>\n",
       "      <td>206647</td>\n",
       "      <td>[{\"id\": 470, \"name\": \"spy\"}, {\"id\": 818, \"name...</td>\n",
       "      <td>en</td>\n",
       "      <td>Spectre</td>\n",
       "      <td>A cryptic message from Bond’s past sends him o...</td>\n",
       "      <td>107.376788</td>\n",
       "      <td>[{\"name\": \"Columbia Pictures\", \"id\": 5}, {\"nam...</td>\n",
       "      <td>[{\"iso_3166_1\": \"GB\", \"name\": \"United Kingdom\"...</td>\n",
       "      <td>2015-10-26</td>\n",
       "      <td>880674609</td>\n",
       "      <td>148.0</td>\n",
       "      <td>[{\"iso_639_1\": \"fr\", \"name\": \"Fran\\u00e7ais\"},...</td>\n",
       "      <td>Released</td>\n",
       "      <td>A Plan No One Escapes</td>\n",
       "      <td>Spectre</td>\n",
       "      <td>6.3</td>\n",
       "      <td>4466</td>\n",
       "    </tr>\n",
       "    <tr>\n",
       "      <th>3</th>\n",
       "      <td>250000000</td>\n",
       "      <td>[{\"id\": 28, \"name\": \"Action\"}, {\"id\": 80, \"nam...</td>\n",
       "      <td>http://www.thedarkknightrises.com/</td>\n",
       "      <td>49026</td>\n",
       "      <td>[{\"id\": 849, \"name\": \"dc comics\"}, {\"id\": 853,...</td>\n",
       "      <td>en</td>\n",
       "      <td>The Dark Knight Rises</td>\n",
       "      <td>Following the death of District Attorney Harve...</td>\n",
       "      <td>112.312950</td>\n",
       "      <td>[{\"name\": \"Legendary Pictures\", \"id\": 923}, {\"...</td>\n",
       "      <td>[{\"iso_3166_1\": \"US\", \"name\": \"United States o...</td>\n",
       "      <td>2012-07-16</td>\n",
       "      <td>1084939099</td>\n",
       "      <td>165.0</td>\n",
       "      <td>[{\"iso_639_1\": \"en\", \"name\": \"English\"}]</td>\n",
       "      <td>Released</td>\n",
       "      <td>The Legend Ends</td>\n",
       "      <td>The Dark Knight Rises</td>\n",
       "      <td>7.6</td>\n",
       "      <td>9106</td>\n",
       "    </tr>\n",
       "    <tr>\n",
       "      <th>4</th>\n",
       "      <td>260000000</td>\n",
       "      <td>[{\"id\": 28, \"name\": \"Action\"}, {\"id\": 12, \"nam...</td>\n",
       "      <td>http://movies.disney.com/john-carter</td>\n",
       "      <td>49529</td>\n",
       "      <td>[{\"id\": 818, \"name\": \"based on novel\"}, {\"id\":...</td>\n",
       "      <td>en</td>\n",
       "      <td>John Carter</td>\n",
       "      <td>John Carter is a war-weary, former military ca...</td>\n",
       "      <td>43.926995</td>\n",
       "      <td>[{\"name\": \"Walt Disney Pictures\", \"id\": 2}]</td>\n",
       "      <td>[{\"iso_3166_1\": \"US\", \"name\": \"United States o...</td>\n",
       "      <td>2012-03-07</td>\n",
       "      <td>284139100</td>\n",
       "      <td>132.0</td>\n",
       "      <td>[{\"iso_639_1\": \"en\", \"name\": \"English\"}]</td>\n",
       "      <td>Released</td>\n",
       "      <td>Lost in our world, found in another.</td>\n",
       "      <td>John Carter</td>\n",
       "      <td>6.1</td>\n",
       "      <td>2124</td>\n",
       "    </tr>\n",
       "  </tbody>\n",
       "</table>\n",
       "</div>"
      ],
      "text/plain": [
       "      budget                                             genres  \\\n",
       "0  237000000  [{\"id\": 28, \"name\": \"Action\"}, {\"id\": 12, \"nam...   \n",
       "1  300000000  [{\"id\": 12, \"name\": \"Adventure\"}, {\"id\": 14, \"...   \n",
       "2  245000000  [{\"id\": 28, \"name\": \"Action\"}, {\"id\": 12, \"nam...   \n",
       "3  250000000  [{\"id\": 28, \"name\": \"Action\"}, {\"id\": 80, \"nam...   \n",
       "4  260000000  [{\"id\": 28, \"name\": \"Action\"}, {\"id\": 12, \"nam...   \n",
       "\n",
       "                                       homepage      id  \\\n",
       "0                   http://www.avatarmovie.com/   19995   \n",
       "1  http://disney.go.com/disneypictures/pirates/     285   \n",
       "2   http://www.sonypictures.com/movies/spectre/  206647   \n",
       "3            http://www.thedarkknightrises.com/   49026   \n",
       "4          http://movies.disney.com/john-carter   49529   \n",
       "\n",
       "                                            keywords original_language  \\\n",
       "0  [{\"id\": 1463, \"name\": \"culture clash\"}, {\"id\":...                en   \n",
       "1  [{\"id\": 270, \"name\": \"ocean\"}, {\"id\": 726, \"na...                en   \n",
       "2  [{\"id\": 470, \"name\": \"spy\"}, {\"id\": 818, \"name...                en   \n",
       "3  [{\"id\": 849, \"name\": \"dc comics\"}, {\"id\": 853,...                en   \n",
       "4  [{\"id\": 818, \"name\": \"based on novel\"}, {\"id\":...                en   \n",
       "\n",
       "                             original_title  \\\n",
       "0                                    Avatar   \n",
       "1  Pirates of the Caribbean: At World's End   \n",
       "2                                   Spectre   \n",
       "3                     The Dark Knight Rises   \n",
       "4                               John Carter   \n",
       "\n",
       "                                            overview  popularity  \\\n",
       "0  In the 22nd century, a paraplegic Marine is di...  150.437577   \n",
       "1  Captain Barbossa, long believed to be dead, ha...  139.082615   \n",
       "2  A cryptic message from Bond’s past sends him o...  107.376788   \n",
       "3  Following the death of District Attorney Harve...  112.312950   \n",
       "4  John Carter is a war-weary, former military ca...   43.926995   \n",
       "\n",
       "                                production_companies  \\\n",
       "0  [{\"name\": \"Ingenious Film Partners\", \"id\": 289...   \n",
       "1  [{\"name\": \"Walt Disney Pictures\", \"id\": 2}, {\"...   \n",
       "2  [{\"name\": \"Columbia Pictures\", \"id\": 5}, {\"nam...   \n",
       "3  [{\"name\": \"Legendary Pictures\", \"id\": 923}, {\"...   \n",
       "4        [{\"name\": \"Walt Disney Pictures\", \"id\": 2}]   \n",
       "\n",
       "                                production_countries release_date     revenue  \\\n",
       "0  [{\"iso_3166_1\": \"US\", \"name\": \"United States o...   2009-12-10  2787965087   \n",
       "1  [{\"iso_3166_1\": \"US\", \"name\": \"United States o...   2007-05-19   961000000   \n",
       "2  [{\"iso_3166_1\": \"GB\", \"name\": \"United Kingdom\"...   2015-10-26   880674609   \n",
       "3  [{\"iso_3166_1\": \"US\", \"name\": \"United States o...   2012-07-16  1084939099   \n",
       "4  [{\"iso_3166_1\": \"US\", \"name\": \"United States o...   2012-03-07   284139100   \n",
       "\n",
       "   runtime                                   spoken_languages    status  \\\n",
       "0    162.0  [{\"iso_639_1\": \"en\", \"name\": \"English\"}, {\"iso...  Released   \n",
       "1    169.0           [{\"iso_639_1\": \"en\", \"name\": \"English\"}]  Released   \n",
       "2    148.0  [{\"iso_639_1\": \"fr\", \"name\": \"Fran\\u00e7ais\"},...  Released   \n",
       "3    165.0           [{\"iso_639_1\": \"en\", \"name\": \"English\"}]  Released   \n",
       "4    132.0           [{\"iso_639_1\": \"en\", \"name\": \"English\"}]  Released   \n",
       "\n",
       "                                          tagline  \\\n",
       "0                     Enter the World of Pandora.   \n",
       "1  At the end of the world, the adventure begins.   \n",
       "2                           A Plan No One Escapes   \n",
       "3                                 The Legend Ends   \n",
       "4            Lost in our world, found in another.   \n",
       "\n",
       "                                      title  vote_average  vote_count  \n",
       "0                                    Avatar           7.2       11800  \n",
       "1  Pirates of the Caribbean: At World's End           6.9        4500  \n",
       "2                                   Spectre           6.3        4466  \n",
       "3                     The Dark Knight Rises           7.6        9106  \n",
       "4                               John Carter           6.1        2124  "
      ]
     },
     "execution_count": 4,
     "metadata": {},
     "output_type": "execute_result"
    }
   ],
   "source": [
    "movies_df.head()"
   ]
  },
  {
   "cell_type": "markdown",
   "metadata": {},
   "source": [
    "**We need to change the column id to movie_id to prevent duplication while merging**"
   ]
  },
  {
   "cell_type": "code",
   "execution_count": 5,
   "metadata": {},
   "outputs": [
    {
     "data": {
      "text/html": [
       "<div>\n",
       "<style scoped>\n",
       "    .dataframe tbody tr th:only-of-type {\n",
       "        vertical-align: middle;\n",
       "    }\n",
       "\n",
       "    .dataframe tbody tr th {\n",
       "        vertical-align: top;\n",
       "    }\n",
       "\n",
       "    .dataframe thead th {\n",
       "        text-align: right;\n",
       "    }\n",
       "</style>\n",
       "<table border=\"1\" class=\"dataframe\">\n",
       "  <thead>\n",
       "    <tr style=\"text-align: right;\">\n",
       "      <th></th>\n",
       "      <th>budget</th>\n",
       "      <th>genres</th>\n",
       "      <th>homepage</th>\n",
       "      <th>movie_id</th>\n",
       "      <th>keywords</th>\n",
       "      <th>original_language</th>\n",
       "      <th>original_title</th>\n",
       "      <th>overview</th>\n",
       "      <th>popularity</th>\n",
       "      <th>production_companies</th>\n",
       "      <th>production_countries</th>\n",
       "      <th>release_date</th>\n",
       "      <th>revenue</th>\n",
       "      <th>runtime</th>\n",
       "      <th>spoken_languages</th>\n",
       "      <th>status</th>\n",
       "      <th>tagline</th>\n",
       "      <th>title</th>\n",
       "      <th>vote_average</th>\n",
       "      <th>vote_count</th>\n",
       "    </tr>\n",
       "  </thead>\n",
       "  <tbody>\n",
       "    <tr>\n",
       "      <th>0</th>\n",
       "      <td>237000000</td>\n",
       "      <td>[{\"id\": 28, \"name\": \"Action\"}, {\"id\": 12, \"nam...</td>\n",
       "      <td>http://www.avatarmovie.com/</td>\n",
       "      <td>19995</td>\n",
       "      <td>[{\"id\": 1463, \"name\": \"culture clash\"}, {\"id\":...</td>\n",
       "      <td>en</td>\n",
       "      <td>Avatar</td>\n",
       "      <td>In the 22nd century, a paraplegic Marine is di...</td>\n",
       "      <td>150.437577</td>\n",
       "      <td>[{\"name\": \"Ingenious Film Partners\", \"id\": 289...</td>\n",
       "      <td>[{\"iso_3166_1\": \"US\", \"name\": \"United States o...</td>\n",
       "      <td>2009-12-10</td>\n",
       "      <td>2787965087</td>\n",
       "      <td>162.0</td>\n",
       "      <td>[{\"iso_639_1\": \"en\", \"name\": \"English\"}, {\"iso...</td>\n",
       "      <td>Released</td>\n",
       "      <td>Enter the World of Pandora.</td>\n",
       "      <td>Avatar</td>\n",
       "      <td>7.2</td>\n",
       "      <td>11800</td>\n",
       "    </tr>\n",
       "    <tr>\n",
       "      <th>1</th>\n",
       "      <td>300000000</td>\n",
       "      <td>[{\"id\": 12, \"name\": \"Adventure\"}, {\"id\": 14, \"...</td>\n",
       "      <td>http://disney.go.com/disneypictures/pirates/</td>\n",
       "      <td>285</td>\n",
       "      <td>[{\"id\": 270, \"name\": \"ocean\"}, {\"id\": 726, \"na...</td>\n",
       "      <td>en</td>\n",
       "      <td>Pirates of the Caribbean: At World's End</td>\n",
       "      <td>Captain Barbossa, long believed to be dead, ha...</td>\n",
       "      <td>139.082615</td>\n",
       "      <td>[{\"name\": \"Walt Disney Pictures\", \"id\": 2}, {\"...</td>\n",
       "      <td>[{\"iso_3166_1\": \"US\", \"name\": \"United States o...</td>\n",
       "      <td>2007-05-19</td>\n",
       "      <td>961000000</td>\n",
       "      <td>169.0</td>\n",
       "      <td>[{\"iso_639_1\": \"en\", \"name\": \"English\"}]</td>\n",
       "      <td>Released</td>\n",
       "      <td>At the end of the world, the adventure begins.</td>\n",
       "      <td>Pirates of the Caribbean: At World's End</td>\n",
       "      <td>6.9</td>\n",
       "      <td>4500</td>\n",
       "    </tr>\n",
       "    <tr>\n",
       "      <th>2</th>\n",
       "      <td>245000000</td>\n",
       "      <td>[{\"id\": 28, \"name\": \"Action\"}, {\"id\": 12, \"nam...</td>\n",
       "      <td>http://www.sonypictures.com/movies/spectre/</td>\n",
       "      <td>206647</td>\n",
       "      <td>[{\"id\": 470, \"name\": \"spy\"}, {\"id\": 818, \"name...</td>\n",
       "      <td>en</td>\n",
       "      <td>Spectre</td>\n",
       "      <td>A cryptic message from Bond’s past sends him o...</td>\n",
       "      <td>107.376788</td>\n",
       "      <td>[{\"name\": \"Columbia Pictures\", \"id\": 5}, {\"nam...</td>\n",
       "      <td>[{\"iso_3166_1\": \"GB\", \"name\": \"United Kingdom\"...</td>\n",
       "      <td>2015-10-26</td>\n",
       "      <td>880674609</td>\n",
       "      <td>148.0</td>\n",
       "      <td>[{\"iso_639_1\": \"fr\", \"name\": \"Fran\\u00e7ais\"},...</td>\n",
       "      <td>Released</td>\n",
       "      <td>A Plan No One Escapes</td>\n",
       "      <td>Spectre</td>\n",
       "      <td>6.3</td>\n",
       "      <td>4466</td>\n",
       "    </tr>\n",
       "    <tr>\n",
       "      <th>3</th>\n",
       "      <td>250000000</td>\n",
       "      <td>[{\"id\": 28, \"name\": \"Action\"}, {\"id\": 80, \"nam...</td>\n",
       "      <td>http://www.thedarkknightrises.com/</td>\n",
       "      <td>49026</td>\n",
       "      <td>[{\"id\": 849, \"name\": \"dc comics\"}, {\"id\": 853,...</td>\n",
       "      <td>en</td>\n",
       "      <td>The Dark Knight Rises</td>\n",
       "      <td>Following the death of District Attorney Harve...</td>\n",
       "      <td>112.312950</td>\n",
       "      <td>[{\"name\": \"Legendary Pictures\", \"id\": 923}, {\"...</td>\n",
       "      <td>[{\"iso_3166_1\": \"US\", \"name\": \"United States o...</td>\n",
       "      <td>2012-07-16</td>\n",
       "      <td>1084939099</td>\n",
       "      <td>165.0</td>\n",
       "      <td>[{\"iso_639_1\": \"en\", \"name\": \"English\"}]</td>\n",
       "      <td>Released</td>\n",
       "      <td>The Legend Ends</td>\n",
       "      <td>The Dark Knight Rises</td>\n",
       "      <td>7.6</td>\n",
       "      <td>9106</td>\n",
       "    </tr>\n",
       "    <tr>\n",
       "      <th>4</th>\n",
       "      <td>260000000</td>\n",
       "      <td>[{\"id\": 28, \"name\": \"Action\"}, {\"id\": 12, \"nam...</td>\n",
       "      <td>http://movies.disney.com/john-carter</td>\n",
       "      <td>49529</td>\n",
       "      <td>[{\"id\": 818, \"name\": \"based on novel\"}, {\"id\":...</td>\n",
       "      <td>en</td>\n",
       "      <td>John Carter</td>\n",
       "      <td>John Carter is a war-weary, former military ca...</td>\n",
       "      <td>43.926995</td>\n",
       "      <td>[{\"name\": \"Walt Disney Pictures\", \"id\": 2}]</td>\n",
       "      <td>[{\"iso_3166_1\": \"US\", \"name\": \"United States o...</td>\n",
       "      <td>2012-03-07</td>\n",
       "      <td>284139100</td>\n",
       "      <td>132.0</td>\n",
       "      <td>[{\"iso_639_1\": \"en\", \"name\": \"English\"}]</td>\n",
       "      <td>Released</td>\n",
       "      <td>Lost in our world, found in another.</td>\n",
       "      <td>John Carter</td>\n",
       "      <td>6.1</td>\n",
       "      <td>2124</td>\n",
       "    </tr>\n",
       "  </tbody>\n",
       "</table>\n",
       "</div>"
      ],
      "text/plain": [
       "      budget                                             genres  \\\n",
       "0  237000000  [{\"id\": 28, \"name\": \"Action\"}, {\"id\": 12, \"nam...   \n",
       "1  300000000  [{\"id\": 12, \"name\": \"Adventure\"}, {\"id\": 14, \"...   \n",
       "2  245000000  [{\"id\": 28, \"name\": \"Action\"}, {\"id\": 12, \"nam...   \n",
       "3  250000000  [{\"id\": 28, \"name\": \"Action\"}, {\"id\": 80, \"nam...   \n",
       "4  260000000  [{\"id\": 28, \"name\": \"Action\"}, {\"id\": 12, \"nam...   \n",
       "\n",
       "                                       homepage  movie_id  \\\n",
       "0                   http://www.avatarmovie.com/     19995   \n",
       "1  http://disney.go.com/disneypictures/pirates/       285   \n",
       "2   http://www.sonypictures.com/movies/spectre/    206647   \n",
       "3            http://www.thedarkknightrises.com/     49026   \n",
       "4          http://movies.disney.com/john-carter     49529   \n",
       "\n",
       "                                            keywords original_language  \\\n",
       "0  [{\"id\": 1463, \"name\": \"culture clash\"}, {\"id\":...                en   \n",
       "1  [{\"id\": 270, \"name\": \"ocean\"}, {\"id\": 726, \"na...                en   \n",
       "2  [{\"id\": 470, \"name\": \"spy\"}, {\"id\": 818, \"name...                en   \n",
       "3  [{\"id\": 849, \"name\": \"dc comics\"}, {\"id\": 853,...                en   \n",
       "4  [{\"id\": 818, \"name\": \"based on novel\"}, {\"id\":...                en   \n",
       "\n",
       "                             original_title  \\\n",
       "0                                    Avatar   \n",
       "1  Pirates of the Caribbean: At World's End   \n",
       "2                                   Spectre   \n",
       "3                     The Dark Knight Rises   \n",
       "4                               John Carter   \n",
       "\n",
       "                                            overview  popularity  \\\n",
       "0  In the 22nd century, a paraplegic Marine is di...  150.437577   \n",
       "1  Captain Barbossa, long believed to be dead, ha...  139.082615   \n",
       "2  A cryptic message from Bond’s past sends him o...  107.376788   \n",
       "3  Following the death of District Attorney Harve...  112.312950   \n",
       "4  John Carter is a war-weary, former military ca...   43.926995   \n",
       "\n",
       "                                production_companies  \\\n",
       "0  [{\"name\": \"Ingenious Film Partners\", \"id\": 289...   \n",
       "1  [{\"name\": \"Walt Disney Pictures\", \"id\": 2}, {\"...   \n",
       "2  [{\"name\": \"Columbia Pictures\", \"id\": 5}, {\"nam...   \n",
       "3  [{\"name\": \"Legendary Pictures\", \"id\": 923}, {\"...   \n",
       "4        [{\"name\": \"Walt Disney Pictures\", \"id\": 2}]   \n",
       "\n",
       "                                production_countries release_date     revenue  \\\n",
       "0  [{\"iso_3166_1\": \"US\", \"name\": \"United States o...   2009-12-10  2787965087   \n",
       "1  [{\"iso_3166_1\": \"US\", \"name\": \"United States o...   2007-05-19   961000000   \n",
       "2  [{\"iso_3166_1\": \"GB\", \"name\": \"United Kingdom\"...   2015-10-26   880674609   \n",
       "3  [{\"iso_3166_1\": \"US\", \"name\": \"United States o...   2012-07-16  1084939099   \n",
       "4  [{\"iso_3166_1\": \"US\", \"name\": \"United States o...   2012-03-07   284139100   \n",
       "\n",
       "   runtime                                   spoken_languages    status  \\\n",
       "0    162.0  [{\"iso_639_1\": \"en\", \"name\": \"English\"}, {\"iso...  Released   \n",
       "1    169.0           [{\"iso_639_1\": \"en\", \"name\": \"English\"}]  Released   \n",
       "2    148.0  [{\"iso_639_1\": \"fr\", \"name\": \"Fran\\u00e7ais\"},...  Released   \n",
       "3    165.0           [{\"iso_639_1\": \"en\", \"name\": \"English\"}]  Released   \n",
       "4    132.0           [{\"iso_639_1\": \"en\", \"name\": \"English\"}]  Released   \n",
       "\n",
       "                                          tagline  \\\n",
       "0                     Enter the World of Pandora.   \n",
       "1  At the end of the world, the adventure begins.   \n",
       "2                           A Plan No One Escapes   \n",
       "3                                 The Legend Ends   \n",
       "4            Lost in our world, found in another.   \n",
       "\n",
       "                                      title  vote_average  vote_count  \n",
       "0                                    Avatar           7.2       11800  \n",
       "1  Pirates of the Caribbean: At World's End           6.9        4500  \n",
       "2                                   Spectre           6.3        4466  \n",
       "3                     The Dark Knight Rises           7.6        9106  \n",
       "4                               John Carter           6.1        2124  "
      ]
     },
     "execution_count": 5,
     "metadata": {},
     "output_type": "execute_result"
    }
   ],
   "source": [
    "# changing the movies_df column name 'id' to 'movie_id'\n",
    "movies_df_changed = movies_df.rename(columns = {'id':'movie_id'})\n",
    "movies_df_changed.head()"
   ]
  },
  {
   "cell_type": "code",
   "execution_count": 6,
   "metadata": {},
   "outputs": [
    {
     "data": {
      "text/html": [
       "<div>\n",
       "<style scoped>\n",
       "    .dataframe tbody tr th:only-of-type {\n",
       "        vertical-align: middle;\n",
       "    }\n",
       "\n",
       "    .dataframe tbody tr th {\n",
       "        vertical-align: top;\n",
       "    }\n",
       "\n",
       "    .dataframe thead th {\n",
       "        text-align: right;\n",
       "    }\n",
       "</style>\n",
       "<table border=\"1\" class=\"dataframe\">\n",
       "  <thead>\n",
       "    <tr style=\"text-align: right;\">\n",
       "      <th></th>\n",
       "      <th>movie_id</th>\n",
       "      <th>title</th>\n",
       "      <th>cast</th>\n",
       "      <th>crew</th>\n",
       "      <th>budget</th>\n",
       "      <th>genres</th>\n",
       "      <th>homepage</th>\n",
       "      <th>keywords</th>\n",
       "      <th>original_language</th>\n",
       "      <th>original_title</th>\n",
       "      <th>...</th>\n",
       "      <th>production_companies</th>\n",
       "      <th>production_countries</th>\n",
       "      <th>release_date</th>\n",
       "      <th>revenue</th>\n",
       "      <th>runtime</th>\n",
       "      <th>spoken_languages</th>\n",
       "      <th>status</th>\n",
       "      <th>tagline</th>\n",
       "      <th>vote_average</th>\n",
       "      <th>vote_count</th>\n",
       "    </tr>\n",
       "  </thead>\n",
       "  <tbody>\n",
       "    <tr>\n",
       "      <th>0</th>\n",
       "      <td>19995</td>\n",
       "      <td>Avatar</td>\n",
       "      <td>[{\"cast_id\": 242, \"character\": \"Jake Sully\", \"...</td>\n",
       "      <td>[{\"credit_id\": \"52fe48009251416c750aca23\", \"de...</td>\n",
       "      <td>237000000</td>\n",
       "      <td>[{\"id\": 28, \"name\": \"Action\"}, {\"id\": 12, \"nam...</td>\n",
       "      <td>http://www.avatarmovie.com/</td>\n",
       "      <td>[{\"id\": 1463, \"name\": \"culture clash\"}, {\"id\":...</td>\n",
       "      <td>en</td>\n",
       "      <td>Avatar</td>\n",
       "      <td>...</td>\n",
       "      <td>[{\"name\": \"Ingenious Film Partners\", \"id\": 289...</td>\n",
       "      <td>[{\"iso_3166_1\": \"US\", \"name\": \"United States o...</td>\n",
       "      <td>2009-12-10</td>\n",
       "      <td>2787965087</td>\n",
       "      <td>162.0</td>\n",
       "      <td>[{\"iso_639_1\": \"en\", \"name\": \"English\"}, {\"iso...</td>\n",
       "      <td>Released</td>\n",
       "      <td>Enter the World of Pandora.</td>\n",
       "      <td>7.2</td>\n",
       "      <td>11800</td>\n",
       "    </tr>\n",
       "    <tr>\n",
       "      <th>1</th>\n",
       "      <td>285</td>\n",
       "      <td>Pirates of the Caribbean: At World's End</td>\n",
       "      <td>[{\"cast_id\": 4, \"character\": \"Captain Jack Spa...</td>\n",
       "      <td>[{\"credit_id\": \"52fe4232c3a36847f800b579\", \"de...</td>\n",
       "      <td>300000000</td>\n",
       "      <td>[{\"id\": 12, \"name\": \"Adventure\"}, {\"id\": 14, \"...</td>\n",
       "      <td>http://disney.go.com/disneypictures/pirates/</td>\n",
       "      <td>[{\"id\": 270, \"name\": \"ocean\"}, {\"id\": 726, \"na...</td>\n",
       "      <td>en</td>\n",
       "      <td>Pirates of the Caribbean: At World's End</td>\n",
       "      <td>...</td>\n",
       "      <td>[{\"name\": \"Walt Disney Pictures\", \"id\": 2}, {\"...</td>\n",
       "      <td>[{\"iso_3166_1\": \"US\", \"name\": \"United States o...</td>\n",
       "      <td>2007-05-19</td>\n",
       "      <td>961000000</td>\n",
       "      <td>169.0</td>\n",
       "      <td>[{\"iso_639_1\": \"en\", \"name\": \"English\"}]</td>\n",
       "      <td>Released</td>\n",
       "      <td>At the end of the world, the adventure begins.</td>\n",
       "      <td>6.9</td>\n",
       "      <td>4500</td>\n",
       "    </tr>\n",
       "    <tr>\n",
       "      <th>2</th>\n",
       "      <td>206647</td>\n",
       "      <td>Spectre</td>\n",
       "      <td>[{\"cast_id\": 1, \"character\": \"James Bond\", \"cr...</td>\n",
       "      <td>[{\"credit_id\": \"54805967c3a36829b5002c41\", \"de...</td>\n",
       "      <td>245000000</td>\n",
       "      <td>[{\"id\": 28, \"name\": \"Action\"}, {\"id\": 12, \"nam...</td>\n",
       "      <td>http://www.sonypictures.com/movies/spectre/</td>\n",
       "      <td>[{\"id\": 470, \"name\": \"spy\"}, {\"id\": 818, \"name...</td>\n",
       "      <td>en</td>\n",
       "      <td>Spectre</td>\n",
       "      <td>...</td>\n",
       "      <td>[{\"name\": \"Columbia Pictures\", \"id\": 5}, {\"nam...</td>\n",
       "      <td>[{\"iso_3166_1\": \"GB\", \"name\": \"United Kingdom\"...</td>\n",
       "      <td>2015-10-26</td>\n",
       "      <td>880674609</td>\n",
       "      <td>148.0</td>\n",
       "      <td>[{\"iso_639_1\": \"fr\", \"name\": \"Fran\\u00e7ais\"},...</td>\n",
       "      <td>Released</td>\n",
       "      <td>A Plan No One Escapes</td>\n",
       "      <td>6.3</td>\n",
       "      <td>4466</td>\n",
       "    </tr>\n",
       "    <tr>\n",
       "      <th>3</th>\n",
       "      <td>49026</td>\n",
       "      <td>The Dark Knight Rises</td>\n",
       "      <td>[{\"cast_id\": 2, \"character\": \"Bruce Wayne / Ba...</td>\n",
       "      <td>[{\"credit_id\": \"52fe4781c3a36847f81398c3\", \"de...</td>\n",
       "      <td>250000000</td>\n",
       "      <td>[{\"id\": 28, \"name\": \"Action\"}, {\"id\": 80, \"nam...</td>\n",
       "      <td>http://www.thedarkknightrises.com/</td>\n",
       "      <td>[{\"id\": 849, \"name\": \"dc comics\"}, {\"id\": 853,...</td>\n",
       "      <td>en</td>\n",
       "      <td>The Dark Knight Rises</td>\n",
       "      <td>...</td>\n",
       "      <td>[{\"name\": \"Legendary Pictures\", \"id\": 923}, {\"...</td>\n",
       "      <td>[{\"iso_3166_1\": \"US\", \"name\": \"United States o...</td>\n",
       "      <td>2012-07-16</td>\n",
       "      <td>1084939099</td>\n",
       "      <td>165.0</td>\n",
       "      <td>[{\"iso_639_1\": \"en\", \"name\": \"English\"}]</td>\n",
       "      <td>Released</td>\n",
       "      <td>The Legend Ends</td>\n",
       "      <td>7.6</td>\n",
       "      <td>9106</td>\n",
       "    </tr>\n",
       "    <tr>\n",
       "      <th>4</th>\n",
       "      <td>49529</td>\n",
       "      <td>John Carter</td>\n",
       "      <td>[{\"cast_id\": 5, \"character\": \"John Carter\", \"c...</td>\n",
       "      <td>[{\"credit_id\": \"52fe479ac3a36847f813eaa3\", \"de...</td>\n",
       "      <td>260000000</td>\n",
       "      <td>[{\"id\": 28, \"name\": \"Action\"}, {\"id\": 12, \"nam...</td>\n",
       "      <td>http://movies.disney.com/john-carter</td>\n",
       "      <td>[{\"id\": 818, \"name\": \"based on novel\"}, {\"id\":...</td>\n",
       "      <td>en</td>\n",
       "      <td>John Carter</td>\n",
       "      <td>...</td>\n",
       "      <td>[{\"name\": \"Walt Disney Pictures\", \"id\": 2}]</td>\n",
       "      <td>[{\"iso_3166_1\": \"US\", \"name\": \"United States o...</td>\n",
       "      <td>2012-03-07</td>\n",
       "      <td>284139100</td>\n",
       "      <td>132.0</td>\n",
       "      <td>[{\"iso_639_1\": \"en\", \"name\": \"English\"}]</td>\n",
       "      <td>Released</td>\n",
       "      <td>Lost in our world, found in another.</td>\n",
       "      <td>6.1</td>\n",
       "      <td>2124</td>\n",
       "    </tr>\n",
       "  </tbody>\n",
       "</table>\n",
       "<p>5 rows × 22 columns</p>\n",
       "</div>"
      ],
      "text/plain": [
       "   movie_id                                     title  \\\n",
       "0     19995                                    Avatar   \n",
       "1       285  Pirates of the Caribbean: At World's End   \n",
       "2    206647                                   Spectre   \n",
       "3     49026                     The Dark Knight Rises   \n",
       "4     49529                               John Carter   \n",
       "\n",
       "                                                cast  \\\n",
       "0  [{\"cast_id\": 242, \"character\": \"Jake Sully\", \"...   \n",
       "1  [{\"cast_id\": 4, \"character\": \"Captain Jack Spa...   \n",
       "2  [{\"cast_id\": 1, \"character\": \"James Bond\", \"cr...   \n",
       "3  [{\"cast_id\": 2, \"character\": \"Bruce Wayne / Ba...   \n",
       "4  [{\"cast_id\": 5, \"character\": \"John Carter\", \"c...   \n",
       "\n",
       "                                                crew     budget  \\\n",
       "0  [{\"credit_id\": \"52fe48009251416c750aca23\", \"de...  237000000   \n",
       "1  [{\"credit_id\": \"52fe4232c3a36847f800b579\", \"de...  300000000   \n",
       "2  [{\"credit_id\": \"54805967c3a36829b5002c41\", \"de...  245000000   \n",
       "3  [{\"credit_id\": \"52fe4781c3a36847f81398c3\", \"de...  250000000   \n",
       "4  [{\"credit_id\": \"52fe479ac3a36847f813eaa3\", \"de...  260000000   \n",
       "\n",
       "                                              genres  \\\n",
       "0  [{\"id\": 28, \"name\": \"Action\"}, {\"id\": 12, \"nam...   \n",
       "1  [{\"id\": 12, \"name\": \"Adventure\"}, {\"id\": 14, \"...   \n",
       "2  [{\"id\": 28, \"name\": \"Action\"}, {\"id\": 12, \"nam...   \n",
       "3  [{\"id\": 28, \"name\": \"Action\"}, {\"id\": 80, \"nam...   \n",
       "4  [{\"id\": 28, \"name\": \"Action\"}, {\"id\": 12, \"nam...   \n",
       "\n",
       "                                       homepage  \\\n",
       "0                   http://www.avatarmovie.com/   \n",
       "1  http://disney.go.com/disneypictures/pirates/   \n",
       "2   http://www.sonypictures.com/movies/spectre/   \n",
       "3            http://www.thedarkknightrises.com/   \n",
       "4          http://movies.disney.com/john-carter   \n",
       "\n",
       "                                            keywords original_language  \\\n",
       "0  [{\"id\": 1463, \"name\": \"culture clash\"}, {\"id\":...                en   \n",
       "1  [{\"id\": 270, \"name\": \"ocean\"}, {\"id\": 726, \"na...                en   \n",
       "2  [{\"id\": 470, \"name\": \"spy\"}, {\"id\": 818, \"name...                en   \n",
       "3  [{\"id\": 849, \"name\": \"dc comics\"}, {\"id\": 853,...                en   \n",
       "4  [{\"id\": 818, \"name\": \"based on novel\"}, {\"id\":...                en   \n",
       "\n",
       "                             original_title  ...  \\\n",
       "0                                    Avatar  ...   \n",
       "1  Pirates of the Caribbean: At World's End  ...   \n",
       "2                                   Spectre  ...   \n",
       "3                     The Dark Knight Rises  ...   \n",
       "4                               John Carter  ...   \n",
       "\n",
       "                                production_companies  \\\n",
       "0  [{\"name\": \"Ingenious Film Partners\", \"id\": 289...   \n",
       "1  [{\"name\": \"Walt Disney Pictures\", \"id\": 2}, {\"...   \n",
       "2  [{\"name\": \"Columbia Pictures\", \"id\": 5}, {\"nam...   \n",
       "3  [{\"name\": \"Legendary Pictures\", \"id\": 923}, {\"...   \n",
       "4        [{\"name\": \"Walt Disney Pictures\", \"id\": 2}]   \n",
       "\n",
       "                                production_countries release_date     revenue  \\\n",
       "0  [{\"iso_3166_1\": \"US\", \"name\": \"United States o...   2009-12-10  2787965087   \n",
       "1  [{\"iso_3166_1\": \"US\", \"name\": \"United States o...   2007-05-19   961000000   \n",
       "2  [{\"iso_3166_1\": \"GB\", \"name\": \"United Kingdom\"...   2015-10-26   880674609   \n",
       "3  [{\"iso_3166_1\": \"US\", \"name\": \"United States o...   2012-07-16  1084939099   \n",
       "4  [{\"iso_3166_1\": \"US\", \"name\": \"United States o...   2012-03-07   284139100   \n",
       "\n",
       "  runtime                                   spoken_languages    status  \\\n",
       "0   162.0  [{\"iso_639_1\": \"en\", \"name\": \"English\"}, {\"iso...  Released   \n",
       "1   169.0           [{\"iso_639_1\": \"en\", \"name\": \"English\"}]  Released   \n",
       "2   148.0  [{\"iso_639_1\": \"fr\", \"name\": \"Fran\\u00e7ais\"},...  Released   \n",
       "3   165.0           [{\"iso_639_1\": \"en\", \"name\": \"English\"}]  Released   \n",
       "4   132.0           [{\"iso_639_1\": \"en\", \"name\": \"English\"}]  Released   \n",
       "\n",
       "                                          tagline vote_average vote_count  \n",
       "0                     Enter the World of Pandora.          7.2      11800  \n",
       "1  At the end of the world, the adventure begins.          6.9       4500  \n",
       "2                           A Plan No One Escapes          6.3       4466  \n",
       "3                                 The Legend Ends          7.6       9106  \n",
       "4            Lost in our world, found in another.          6.1       2124  \n",
       "\n",
       "[5 rows x 22 columns]"
      ]
     },
     "execution_count": 6,
     "metadata": {},
     "output_type": "execute_result"
    }
   ],
   "source": [
    "# merging the two csv data file into one file dataset\n",
    "movies_credit = pd.merge(credits_df, movies_df_changed, on=['title', 'movie_id'], how='outer')\n",
    "movies_credit.head()"
   ]
  },
  {
   "cell_type": "markdown",
   "metadata": {},
   "source": [
    "**1. We need to save these changes into a csv file.**\n",
    "**2. We need to take a copy.**"
   ]
  },
  {
   "cell_type": "code",
   "execution_count": 7,
   "metadata": {},
   "outputs": [],
   "source": [
    "# 1.Saving the merged two file to a one csv file\n",
    "movies_credit.to_csv('movies_credit.csv')"
   ]
  },
  {
   "cell_type": "code",
   "execution_count": 8,
   "metadata": {},
   "outputs": [],
   "source": [
    "# 2.Taking a copy of the file for cleaning the data \n",
    "movies_clean = movies_credit.copy()"
   ]
  },
  {
   "cell_type": "code",
   "execution_count": 9,
   "metadata": {},
   "outputs": [
    {
     "data": {
      "text/plain": [
       "(4803, 22)"
      ]
     },
     "execution_count": 9,
     "metadata": {},
     "output_type": "execute_result"
    }
   ],
   "source": [
    "movies_clean.shape"
   ]
  },
  {
   "cell_type": "code",
   "execution_count": 10,
   "metadata": {},
   "outputs": [
    {
     "name": "stdout",
     "output_type": "stream",
     "text": [
      "<class 'pandas.core.frame.DataFrame'>\n",
      "Int64Index: 4803 entries, 0 to 4802\n",
      "Data columns (total 22 columns):\n",
      " #   Column                Non-Null Count  Dtype  \n",
      "---  ------                --------------  -----  \n",
      " 0   movie_id              4803 non-null   int64  \n",
      " 1   title                 4803 non-null   object \n",
      " 2   cast                  4803 non-null   object \n",
      " 3   crew                  4803 non-null   object \n",
      " 4   budget                4803 non-null   int64  \n",
      " 5   genres                4803 non-null   object \n",
      " 6   homepage              1712 non-null   object \n",
      " 7   keywords              4803 non-null   object \n",
      " 8   original_language     4803 non-null   object \n",
      " 9   original_title        4803 non-null   object \n",
      " 10  overview              4800 non-null   object \n",
      " 11  popularity            4803 non-null   float64\n",
      " 12  production_companies  4803 non-null   object \n",
      " 13  production_countries  4803 non-null   object \n",
      " 14  release_date          4802 non-null   object \n",
      " 15  revenue               4803 non-null   int64  \n",
      " 16  runtime               4801 non-null   float64\n",
      " 17  spoken_languages      4803 non-null   object \n",
      " 18  status                4803 non-null   object \n",
      " 19  tagline               3959 non-null   object \n",
      " 20  vote_average          4803 non-null   float64\n",
      " 21  vote_count            4803 non-null   int64  \n",
      "dtypes: float64(3), int64(4), object(15)\n",
      "memory usage: 863.0+ KB\n"
     ]
    }
   ],
   "source": [
    "movies_clean.info()"
   ]
  },
  {
   "cell_type": "code",
   "execution_count": 11,
   "metadata": {},
   "outputs": [
    {
     "data": {
      "text/html": [
       "<div>\n",
       "<style scoped>\n",
       "    .dataframe tbody tr th:only-of-type {\n",
       "        vertical-align: middle;\n",
       "    }\n",
       "\n",
       "    .dataframe tbody tr th {\n",
       "        vertical-align: top;\n",
       "    }\n",
       "\n",
       "    .dataframe thead th {\n",
       "        text-align: right;\n",
       "    }\n",
       "</style>\n",
       "<table border=\"1\" class=\"dataframe\">\n",
       "  <thead>\n",
       "    <tr style=\"text-align: right;\">\n",
       "      <th></th>\n",
       "      <th>movie_id</th>\n",
       "      <th>budget</th>\n",
       "      <th>popularity</th>\n",
       "      <th>revenue</th>\n",
       "      <th>runtime</th>\n",
       "      <th>vote_average</th>\n",
       "      <th>vote_count</th>\n",
       "    </tr>\n",
       "  </thead>\n",
       "  <tbody>\n",
       "    <tr>\n",
       "      <th>count</th>\n",
       "      <td>4803.000000</td>\n",
       "      <td>4.803000e+03</td>\n",
       "      <td>4803.000000</td>\n",
       "      <td>4.803000e+03</td>\n",
       "      <td>4801.000000</td>\n",
       "      <td>4803.000000</td>\n",
       "      <td>4803.000000</td>\n",
       "    </tr>\n",
       "    <tr>\n",
       "      <th>mean</th>\n",
       "      <td>57165.484281</td>\n",
       "      <td>2.904504e+07</td>\n",
       "      <td>21.492301</td>\n",
       "      <td>8.226064e+07</td>\n",
       "      <td>106.875859</td>\n",
       "      <td>6.092172</td>\n",
       "      <td>690.217989</td>\n",
       "    </tr>\n",
       "    <tr>\n",
       "      <th>std</th>\n",
       "      <td>88694.614033</td>\n",
       "      <td>4.072239e+07</td>\n",
       "      <td>31.816650</td>\n",
       "      <td>1.628571e+08</td>\n",
       "      <td>22.611935</td>\n",
       "      <td>1.194612</td>\n",
       "      <td>1234.585891</td>\n",
       "    </tr>\n",
       "    <tr>\n",
       "      <th>min</th>\n",
       "      <td>5.000000</td>\n",
       "      <td>0.000000e+00</td>\n",
       "      <td>0.000000</td>\n",
       "      <td>0.000000e+00</td>\n",
       "      <td>0.000000</td>\n",
       "      <td>0.000000</td>\n",
       "      <td>0.000000</td>\n",
       "    </tr>\n",
       "    <tr>\n",
       "      <th>25%</th>\n",
       "      <td>9014.500000</td>\n",
       "      <td>7.900000e+05</td>\n",
       "      <td>4.668070</td>\n",
       "      <td>0.000000e+00</td>\n",
       "      <td>94.000000</td>\n",
       "      <td>5.600000</td>\n",
       "      <td>54.000000</td>\n",
       "    </tr>\n",
       "    <tr>\n",
       "      <th>50%</th>\n",
       "      <td>14629.000000</td>\n",
       "      <td>1.500000e+07</td>\n",
       "      <td>12.921594</td>\n",
       "      <td>1.917000e+07</td>\n",
       "      <td>103.000000</td>\n",
       "      <td>6.200000</td>\n",
       "      <td>235.000000</td>\n",
       "    </tr>\n",
       "    <tr>\n",
       "      <th>75%</th>\n",
       "      <td>58610.500000</td>\n",
       "      <td>4.000000e+07</td>\n",
       "      <td>28.313505</td>\n",
       "      <td>9.291719e+07</td>\n",
       "      <td>118.000000</td>\n",
       "      <td>6.800000</td>\n",
       "      <td>737.000000</td>\n",
       "    </tr>\n",
       "    <tr>\n",
       "      <th>max</th>\n",
       "      <td>459488.000000</td>\n",
       "      <td>3.800000e+08</td>\n",
       "      <td>875.581305</td>\n",
       "      <td>2.787965e+09</td>\n",
       "      <td>338.000000</td>\n",
       "      <td>10.000000</td>\n",
       "      <td>13752.000000</td>\n",
       "    </tr>\n",
       "  </tbody>\n",
       "</table>\n",
       "</div>"
      ],
      "text/plain": [
       "            movie_id        budget   popularity       revenue      runtime  \\\n",
       "count    4803.000000  4.803000e+03  4803.000000  4.803000e+03  4801.000000   \n",
       "mean    57165.484281  2.904504e+07    21.492301  8.226064e+07   106.875859   \n",
       "std     88694.614033  4.072239e+07    31.816650  1.628571e+08    22.611935   \n",
       "min         5.000000  0.000000e+00     0.000000  0.000000e+00     0.000000   \n",
       "25%      9014.500000  7.900000e+05     4.668070  0.000000e+00    94.000000   \n",
       "50%     14629.000000  1.500000e+07    12.921594  1.917000e+07   103.000000   \n",
       "75%     58610.500000  4.000000e+07    28.313505  9.291719e+07   118.000000   \n",
       "max    459488.000000  3.800000e+08   875.581305  2.787965e+09   338.000000   \n",
       "\n",
       "       vote_average    vote_count  \n",
       "count   4803.000000   4803.000000  \n",
       "mean       6.092172    690.217989  \n",
       "std        1.194612   1234.585891  \n",
       "min        0.000000      0.000000  \n",
       "25%        5.600000     54.000000  \n",
       "50%        6.200000    235.000000  \n",
       "75%        6.800000    737.000000  \n",
       "max       10.000000  13752.000000  "
      ]
     },
     "execution_count": 11,
     "metadata": {},
     "output_type": "execute_result"
    }
   ],
   "source": [
    "movies_clean.describe()"
   ]
  },
  {
   "cell_type": "code",
   "execution_count": 12,
   "metadata": {},
   "outputs": [
    {
     "data": {
      "text/plain": [
       "0"
      ]
     },
     "execution_count": 12,
     "metadata": {},
     "output_type": "execute_result"
    }
   ],
   "source": [
    "movies_clean.duplicated().sum()"
   ]
  },
  {
   "cell_type": "code",
   "execution_count": 13,
   "metadata": {},
   "outputs": [
    {
     "data": {
      "text/plain": [
       "array([[<AxesSubplot:title={'center':'movie_id'}>,\n",
       "        <AxesSubplot:title={'center':'budget'}>,\n",
       "        <AxesSubplot:title={'center':'popularity'}>],\n",
       "       [<AxesSubplot:title={'center':'revenue'}>,\n",
       "        <AxesSubplot:title={'center':'runtime'}>,\n",
       "        <AxesSubplot:title={'center':'vote_average'}>],\n",
       "       [<AxesSubplot:title={'center':'vote_count'}>, <AxesSubplot:>,\n",
       "        <AxesSubplot:>]], dtype=object)"
      ]
     },
     "execution_count": 13,
     "metadata": {},
     "output_type": "execute_result"
    },
    {
     "data": {
      "image/png": "[encoded data removed]",
      "text/plain": [
       "<Figure size 576x576 with 9 Axes>"
      ]
     },
     "metadata": {
      "needs_background": "light"
     },
     "output_type": "display_data"
    }
   ],
   "source": [
    "movies_clean.hist(figsize = (8,8))"
   ]
  },
  {
   "cell_type": "markdown",
   "metadata": {},
   "source": [
    "### Data Cleaning (TMDb dataset cleaning):\n",
    "\n",
    "> 1. We need to fill Nan cells in columns with numerical values with the mean value.\n",
    "> 2. We need to remove the unused and unimportnat column like ('homepage')\n",
    "> 3. We need to remove the NaN cells from dataset.\n",
    "> 4. We need to convert the dtype of column ('runtime') values to integer dtype.\n",
    "> 5. Capture the name of crew, cast, genres, keywords, spoken_languages, production_countries, production_companies.\n",
    "> 6. We need to remove the unnecessary characters and strip spaces from these names.\n",
    "> 7. Save all these changes to a new csv file.\n",
    "\n"
   ]
  },
  {
   "cell_type": "markdown",
   "metadata": {},
   "source": [
    "**We need to fill Nan or zero values\\' cells with the mean value of each column** "
   ]
  },
  {
   "cell_type": "code",
   "execution_count": null,
   "metadata": {},
   "outputs": [],
   "source": [
    "# fill Nan cells in columns with numerical values with the mean value.\n",
    "movies_clean.budget = movies_clean.budget.replace(0,movies_clean.budget.mean())\n",
    "movies_clean.popularity = movies_clean.popularity.replace('0', movies_clean.popularity.mean())\n",
    "movies_clean.revenue = movies_clean.revenue.replace(0, movies_clean.revenue.mean())\n",
    "movies_clean.runtime = movies_clean.runtime.replace('0', movies_clean.runtime.mean())\n",
    "movies_clean.vote_average = movies_clean.vote_average.replace('0', movies_clean.vote_average.mean())\n",
    "movies_clean.vote_count = movies_clean.vote_count.replace(0, movies_clean.vote_count.mean())"
   ]
  },
  {
   "cell_type": "markdown",
   "metadata": {},
   "source": [
    "**We need to remove the unused and unimportnat column like ('homepage')**"
   ]
  },
  {
   "cell_type": "code",
   "execution_count": 15,
   "metadata": {},
   "outputs": [],
   "source": [
    "# We need to remove the unused and unimportnat column like ('homepage')\n",
    "movies_clean = movies_clean.drop('homepage', axis = 1)"
   ]
  },
  {
   "cell_type": "markdown",
   "metadata": {},
   "source": [
    "**We need to remove the NaN cells from dataset**"
   ]
  },
  {
   "cell_type": "code",
   "execution_count": 16,
   "metadata": {},
   "outputs": [],
   "source": [
    "# We need to remove the NaN cells from dataset\n",
    "movies_clean.dropna(inplace=True)"
   ]
  },
  {
   "cell_type": "code",
   "execution_count": 17,
   "metadata": {},
   "outputs": [],
   "source": [
    "# convert the dtype of column ('runtime') values to integer dtype\n",
    "movies_clean.runtime = movies_clean.runtime.astype(int)"
   ]
  },
  {
   "cell_type": "code",
   "execution_count": 18,
   "metadata": {},
   "outputs": [
    {
     "name": "stdout",
     "output_type": "stream",
     "text": [
      "<class 'pandas.core.frame.DataFrame'>\n",
      "Int64Index: 3959 entries, 0 to 4801\n",
      "Data columns (total 21 columns):\n",
      " #   Column                Non-Null Count  Dtype  \n",
      "---  ------                --------------  -----  \n",
      " 0   movie_id              3959 non-null   int64  \n",
      " 1   title                 3959 non-null   object \n",
      " 2   cast                  3959 non-null   object \n",
      " 3   crew                  3959 non-null   object \n",
      " 4   budget                3959 non-null   float64\n",
      " 5   genres                3959 non-null   object \n",
      " 6   keywords              3959 non-null   object \n",
      " 7   original_language     3959 non-null   object \n",
      " 8   original_title        3959 non-null   object \n",
      " 9   overview              3959 non-null   object \n",
      " 10  popularity            3959 non-null   float64\n",
      " 11  production_companies  3959 non-null   object \n",
      " 12  production_countries  3959 non-null   object \n",
      " 13  release_date          3959 non-null   object \n",
      " 14  revenue               3959 non-null   float64\n",
      " 15  runtime               3959 non-null   int32  \n",
      " 16  spoken_languages      3959 non-null   object \n",
      " 17  status                3959 non-null   object \n",
      " 18  tagline               3959 non-null   object \n",
      " 19  vote_average          3959 non-null   float64\n",
      " 20  vote_count            3959 non-null   float64\n",
      "dtypes: float64(5), int32(1), int64(1), object(14)\n",
      "memory usage: 665.0+ KB\n"
     ]
    }
   ],
   "source": [
    "movies_clean.info()"
   ]
  },
  {
   "cell_type": "code",
   "execution_count": 19,
   "metadata": {},
   "outputs": [
    {
     "data": {
      "text/plain": [
       "(3959, 21)"
      ]
     },
     "execution_count": 19,
     "metadata": {},
     "output_type": "execute_result"
    }
   ],
   "source": [
    "movies_clean.shape"
   ]
  },
  {
   "cell_type": "markdown",
   "metadata": {},
   "source": [
    "**Convert strings in columns to JSON structure to iterate over them and capture name value.<br/>\n",
    "Capture the name of crew, cast, genres, keywords, spoken_languages, production_countries, production_companies.<br/>\n",
    "Remove the unnecessary characters and strip spaces from these names.**"
   ]
  },
  {
   "cell_type": "code",
   "execution_count": 20,
   "metadata": {},
   "outputs": [],
   "source": [
    "# collect columns needed to be converted to json into one array\n",
    "# use a for loop to iterate over the array of columns to convert them\n",
    "json_columns = ['genres', 'cast', 'crew', 'keywords', 'production_companies', 'production_countries', 'spoken_languages'] \n",
    "for column in json_columns:\n",
    "    movies_clean[column] = movies_clean[column].apply(json.loads)"
   ]
  },
  {
   "cell_type": "markdown",
   "metadata": {},
   "source": [
    "**code a function to iterate over the contents of the crew column to capture the director name**"
   ]
  },
  {
   "cell_type": "code",
   "execution_count": 21,
   "metadata": {},
   "outputs": [
    {
     "data": {
      "text/html": [
       "<div>\n",
       "<style scoped>\n",
       "    .dataframe tbody tr th:only-of-type {\n",
       "        vertical-align: middle;\n",
       "    }\n",
       "\n",
       "    .dataframe tbody tr th {\n",
       "        vertical-align: top;\n",
       "    }\n",
       "\n",
       "    .dataframe thead th {\n",
       "        text-align: right;\n",
       "    }\n",
       "</style>\n",
       "<table border=\"1\" class=\"dataframe\">\n",
       "  <thead>\n",
       "    <tr style=\"text-align: right;\">\n",
       "      <th></th>\n",
       "      <th>movie_id</th>\n",
       "      <th>title</th>\n",
       "      <th>cast</th>\n",
       "      <th>crew</th>\n",
       "      <th>budget</th>\n",
       "      <th>genres</th>\n",
       "      <th>keywords</th>\n",
       "      <th>original_language</th>\n",
       "      <th>original_title</th>\n",
       "      <th>overview</th>\n",
       "      <th>...</th>\n",
       "      <th>production_countries</th>\n",
       "      <th>release_date</th>\n",
       "      <th>revenue</th>\n",
       "      <th>runtime</th>\n",
       "      <th>spoken_languages</th>\n",
       "      <th>status</th>\n",
       "      <th>tagline</th>\n",
       "      <th>vote_average</th>\n",
       "      <th>vote_count</th>\n",
       "      <th>director</th>\n",
       "    </tr>\n",
       "  </thead>\n",
       "  <tbody>\n",
       "    <tr>\n",
       "      <th>0</th>\n",
       "      <td>19995</td>\n",
       "      <td>Avatar</td>\n",
       "      <td>[{'cast_id': 242, 'character': 'Jake Sully', '...</td>\n",
       "      <td>[{'credit_id': '52fe48009251416c750aca23', 'de...</td>\n",
       "      <td>237000000.0</td>\n",
       "      <td>[{'id': 28, 'name': 'Action'}, {'id': 12, 'nam...</td>\n",
       "      <td>[{'id': 1463, 'name': 'culture clash'}, {'id':...</td>\n",
       "      <td>en</td>\n",
       "      <td>Avatar</td>\n",
       "      <td>In the 22nd century, a paraplegic Marine is di...</td>\n",
       "      <td>...</td>\n",
       "      <td>[{'iso_3166_1': 'US', 'name': 'United States o...</td>\n",
       "      <td>2009-12-10</td>\n",
       "      <td>2.787965e+09</td>\n",
       "      <td>162</td>\n",
       "      <td>[{'iso_639_1': 'en', 'name': 'English'}, {'iso...</td>\n",
       "      <td>Released</td>\n",
       "      <td>Enter the World of Pandora.</td>\n",
       "      <td>7.2</td>\n",
       "      <td>11800.0</td>\n",
       "      <td>James Cameron</td>\n",
       "    </tr>\n",
       "    <tr>\n",
       "      <th>1</th>\n",
       "      <td>285</td>\n",
       "      <td>Pirates of the Caribbean: At World's End</td>\n",
       "      <td>[{'cast_id': 4, 'character': 'Captain Jack Spa...</td>\n",
       "      <td>[{'credit_id': '52fe4232c3a36847f800b579', 'de...</td>\n",
       "      <td>300000000.0</td>\n",
       "      <td>[{'id': 12, 'name': 'Adventure'}, {'id': 14, '...</td>\n",
       "      <td>[{'id': 270, 'name': 'ocean'}, {'id': 726, 'na...</td>\n",
       "      <td>en</td>\n",
       "      <td>Pirates of the Caribbean: At World's End</td>\n",
       "      <td>Captain Barbossa, long believed to be dead, ha...</td>\n",
       "      <td>...</td>\n",
       "      <td>[{'iso_3166_1': 'US', 'name': 'United States o...</td>\n",
       "      <td>2007-05-19</td>\n",
       "      <td>9.610000e+08</td>\n",
       "      <td>169</td>\n",
       "      <td>[{'iso_639_1': 'en', 'name': 'English'}]</td>\n",
       "      <td>Released</td>\n",
       "      <td>At the end of the world, the adventure begins.</td>\n",
       "      <td>6.9</td>\n",
       "      <td>4500.0</td>\n",
       "      <td>Gore Verbinski</td>\n",
       "    </tr>\n",
       "    <tr>\n",
       "      <th>2</th>\n",
       "      <td>206647</td>\n",
       "      <td>Spectre</td>\n",
       "      <td>[{'cast_id': 1, 'character': 'James Bond', 'cr...</td>\n",
       "      <td>[{'credit_id': '54805967c3a36829b5002c41', 'de...</td>\n",
       "      <td>245000000.0</td>\n",
       "      <td>[{'id': 28, 'name': 'Action'}, {'id': 12, 'nam...</td>\n",
       "      <td>[{'id': 470, 'name': 'spy'}, {'id': 818, 'name...</td>\n",
       "      <td>en</td>\n",
       "      <td>Spectre</td>\n",
       "      <td>A cryptic message from Bond’s past sends him o...</td>\n",
       "      <td>...</td>\n",
       "      <td>[{'iso_3166_1': 'GB', 'name': 'United Kingdom'...</td>\n",
       "      <td>2015-10-26</td>\n",
       "      <td>8.806746e+08</td>\n",
       "      <td>148</td>\n",
       "      <td>[{'iso_639_1': 'fr', 'name': 'Français'}, {'is...</td>\n",
       "      <td>Released</td>\n",
       "      <td>A Plan No One Escapes</td>\n",
       "      <td>6.3</td>\n",
       "      <td>4466.0</td>\n",
       "      <td>Sam Mendes</td>\n",
       "    </tr>\n",
       "    <tr>\n",
       "      <th>3</th>\n",
       "      <td>49026</td>\n",
       "      <td>The Dark Knight Rises</td>\n",
       "      <td>[{'cast_id': 2, 'character': 'Bruce Wayne / Ba...</td>\n",
       "      <td>[{'credit_id': '52fe4781c3a36847f81398c3', 'de...</td>\n",
       "      <td>250000000.0</td>\n",
       "      <td>[{'id': 28, 'name': 'Action'}, {'id': 80, 'nam...</td>\n",
       "      <td>[{'id': 849, 'name': 'dc comics'}, {'id': 853,...</td>\n",
       "      <td>en</td>\n",
       "      <td>The Dark Knight Rises</td>\n",
       "      <td>Following the death of District Attorney Harve...</td>\n",
       "      <td>...</td>\n",
       "      <td>[{'iso_3166_1': 'US', 'name': 'United States o...</td>\n",
       "      <td>2012-07-16</td>\n",
       "      <td>1.084939e+09</td>\n",
       "      <td>165</td>\n",
       "      <td>[{'iso_639_1': 'en', 'name': 'English'}]</td>\n",
       "      <td>Released</td>\n",
       "      <td>The Legend Ends</td>\n",
       "      <td>7.6</td>\n",
       "      <td>9106.0</td>\n",
       "      <td>Christopher Nolan</td>\n",
       "    </tr>\n",
       "    <tr>\n",
       "      <th>4</th>\n",
       "      <td>49529</td>\n",
       "      <td>John Carter</td>\n",
       "      <td>[{'cast_id': 5, 'character': 'John Carter', 'c...</td>\n",
       "      <td>[{'credit_id': '52fe479ac3a36847f813eaa3', 'de...</td>\n",
       "      <td>260000000.0</td>\n",
       "      <td>[{'id': 28, 'name': 'Action'}, {'id': 12, 'nam...</td>\n",
       "      <td>[{'id': 818, 'name': 'based on novel'}, {'id':...</td>\n",
       "      <td>en</td>\n",
       "      <td>John Carter</td>\n",
       "      <td>John Carter is a war-weary, former military ca...</td>\n",
       "      <td>...</td>\n",
       "      <td>[{'iso_3166_1': 'US', 'name': 'United States o...</td>\n",
       "      <td>2012-03-07</td>\n",
       "      <td>2.841391e+08</td>\n",
       "      <td>132</td>\n",
       "      <td>[{'iso_639_1': 'en', 'name': 'English'}]</td>\n",
       "      <td>Released</td>\n",
       "      <td>Lost in our world, found in another.</td>\n",
       "      <td>6.1</td>\n",
       "      <td>2124.0</td>\n",
       "      <td>Andrew Stanton</td>\n",
       "    </tr>\n",
       "  </tbody>\n",
       "</table>\n",
       "<p>5 rows × 22 columns</p>\n",
       "</div>"
      ],
      "text/plain": [
       "   movie_id                                     title  \\\n",
       "0     19995                                    Avatar   \n",
       "1       285  Pirates of the Caribbean: At World's End   \n",
       "2    206647                                   Spectre   \n",
       "3     49026                     The Dark Knight Rises   \n",
       "4     49529                               John Carter   \n",
       "\n",
       "                                                cast  \\\n",
       "0  [{'cast_id': 242, 'character': 'Jake Sully', '...   \n",
       "1  [{'cast_id': 4, 'character': 'Captain Jack Spa...   \n",
       "2  [{'cast_id': 1, 'character': 'James Bond', 'cr...   \n",
       "3  [{'cast_id': 2, 'character': 'Bruce Wayne / Ba...   \n",
       "4  [{'cast_id': 5, 'character': 'John Carter', 'c...   \n",
       "\n",
       "                                                crew       budget  \\\n",
       "0  [{'credit_id': '52fe48009251416c750aca23', 'de...  237000000.0   \n",
       "1  [{'credit_id': '52fe4232c3a36847f800b579', 'de...  300000000.0   \n",
       "2  [{'credit_id': '54805967c3a36829b5002c41', 'de...  245000000.0   \n",
       "3  [{'credit_id': '52fe4781c3a36847f81398c3', 'de...  250000000.0   \n",
       "4  [{'credit_id': '52fe479ac3a36847f813eaa3', 'de...  260000000.0   \n",
       "\n",
       "                                              genres  \\\n",
       "0  [{'id': 28, 'name': 'Action'}, {'id': 12, 'nam...   \n",
       "1  [{'id': 12, 'name': 'Adventure'}, {'id': 14, '...   \n",
       "2  [{'id': 28, 'name': 'Action'}, {'id': 12, 'nam...   \n",
       "3  [{'id': 28, 'name': 'Action'}, {'id': 80, 'nam...   \n",
       "4  [{'id': 28, 'name': 'Action'}, {'id': 12, 'nam...   \n",
       "\n",
       "                                            keywords original_language  \\\n",
       "0  [{'id': 1463, 'name': 'culture clash'}, {'id':...                en   \n",
       "1  [{'id': 270, 'name': 'ocean'}, {'id': 726, 'na...                en   \n",
       "2  [{'id': 470, 'name': 'spy'}, {'id': 818, 'name...                en   \n",
       "3  [{'id': 849, 'name': 'dc comics'}, {'id': 853,...                en   \n",
       "4  [{'id': 818, 'name': 'based on novel'}, {'id':...                en   \n",
       "\n",
       "                             original_title  \\\n",
       "0                                    Avatar   \n",
       "1  Pirates of the Caribbean: At World's End   \n",
       "2                                   Spectre   \n",
       "3                     The Dark Knight Rises   \n",
       "4                               John Carter   \n",
       "\n",
       "                                            overview  ...  \\\n",
       "0  In the 22nd century, a paraplegic Marine is di...  ...   \n",
       "1  Captain Barbossa, long believed to be dead, ha...  ...   \n",
       "2  A cryptic message from Bond’s past sends him o...  ...   \n",
       "3  Following the death of District Attorney Harve...  ...   \n",
       "4  John Carter is a war-weary, former military ca...  ...   \n",
       "\n",
       "                                production_countries release_date  \\\n",
       "0  [{'iso_3166_1': 'US', 'name': 'United States o...   2009-12-10   \n",
       "1  [{'iso_3166_1': 'US', 'name': 'United States o...   2007-05-19   \n",
       "2  [{'iso_3166_1': 'GB', 'name': 'United Kingdom'...   2015-10-26   \n",
       "3  [{'iso_3166_1': 'US', 'name': 'United States o...   2012-07-16   \n",
       "4  [{'iso_3166_1': 'US', 'name': 'United States o...   2012-03-07   \n",
       "\n",
       "        revenue runtime                                   spoken_languages  \\\n",
       "0  2.787965e+09     162  [{'iso_639_1': 'en', 'name': 'English'}, {'iso...   \n",
       "1  9.610000e+08     169           [{'iso_639_1': 'en', 'name': 'English'}]   \n",
       "2  8.806746e+08     148  [{'iso_639_1': 'fr', 'name': 'Français'}, {'is...   \n",
       "3  1.084939e+09     165           [{'iso_639_1': 'en', 'name': 'English'}]   \n",
       "4  2.841391e+08     132           [{'iso_639_1': 'en', 'name': 'English'}]   \n",
       "\n",
       "     status                                         tagline vote_average  \\\n",
       "0  Released                     Enter the World of Pandora.          7.2   \n",
       "1  Released  At the end of the world, the adventure begins.          6.9   \n",
       "2  Released                           A Plan No One Escapes          6.3   \n",
       "3  Released                                 The Legend Ends          7.6   \n",
       "4  Released            Lost in our world, found in another.          6.1   \n",
       "\n",
       "  vote_count           director  \n",
       "0    11800.0      James Cameron  \n",
       "1     4500.0     Gore Verbinski  \n",
       "2     4466.0         Sam Mendes  \n",
       "3     9106.0  Christopher Nolan  \n",
       "4     2124.0     Andrew Stanton  \n",
       "\n",
       "[5 rows x 22 columns]"
      ]
     },
     "execution_count": 21,
     "metadata": {},
     "output_type": "execute_result"
    }
   ],
   "source": [
    "# code a function to iterate over the contents of the crew column to capture the director name\n",
    "# use apply method to apply the function to the wanted column\n",
    "def get_director(column):\n",
    "    for i in column:\n",
    "        if i['job'] == 'Director':\n",
    "            return i['name']\n",
    "    return np.nan\n",
    "movies_clean['director'] = movies_clean['crew'].apply(get_director)\n",
    "movies_clean.head()"
   ]
  },
  {
   "cell_type": "markdown",
   "metadata": {},
   "source": [
    "**iterate over the columns and clean them from the unwanted charcters and spaces**"
   ]
  },
  {
   "cell_type": "code",
   "execution_count": 22,
   "metadata": {},
   "outputs": [],
   "source": [
    "# iterate over the columns and clean them from the unwanted charcters and spaces \n",
    "for column in json_columns:\n",
    "    for index, i in zip(movies_clean.index, movies_clean[column]):\n",
    "        list_names = []\n",
    "        for j in range(len(i)):\n",
    "            list_names.append(i[j]['name'])\n",
    "            if len(list_names) >= 4:\n",
    "                break;\n",
    "        movies_clean.loc[index, column] = str(list_names)\n",
    "    movies_clean[column] = movies_clean[column].str.strip('[]').str.replace('\\'', \"\").str.replace(',', ' |')   "
   ]
  },
  {
   "cell_type": "code",
   "execution_count": 23,
   "metadata": {},
   "outputs": [
    {
     "data": {
      "text/html": [
       "<div>\n",
       "<style scoped>\n",
       "    .dataframe tbody tr th:only-of-type {\n",
       "        vertical-align: middle;\n",
       "    }\n",
       "\n",
       "    .dataframe tbody tr th {\n",
       "        vertical-align: top;\n",
       "    }\n",
       "\n",
       "    .dataframe thead th {\n",
       "        text-align: right;\n",
       "    }\n",
       "</style>\n",
       "<table border=\"1\" class=\"dataframe\">\n",
       "  <thead>\n",
       "    <tr style=\"text-align: right;\">\n",
       "      <th></th>\n",
       "      <th>movie_id</th>\n",
       "      <th>title</th>\n",
       "      <th>cast</th>\n",
       "      <th>crew</th>\n",
       "      <th>budget</th>\n",
       "      <th>genres</th>\n",
       "      <th>keywords</th>\n",
       "      <th>original_language</th>\n",
       "      <th>original_title</th>\n",
       "      <th>overview</th>\n",
       "      <th>...</th>\n",
       "      <th>production_countries</th>\n",
       "      <th>release_date</th>\n",
       "      <th>revenue</th>\n",
       "      <th>runtime</th>\n",
       "      <th>spoken_languages</th>\n",
       "      <th>status</th>\n",
       "      <th>tagline</th>\n",
       "      <th>vote_average</th>\n",
       "      <th>vote_count</th>\n",
       "      <th>director</th>\n",
       "    </tr>\n",
       "  </thead>\n",
       "  <tbody>\n",
       "    <tr>\n",
       "      <th>0</th>\n",
       "      <td>19995</td>\n",
       "      <td>Avatar</td>\n",
       "      <td>Sam Worthington | Zoe Saldana | Sigourney Weav...</td>\n",
       "      <td>Stephen E. Rivkin | Rick Carter | Christopher ...</td>\n",
       "      <td>237000000.0</td>\n",
       "      <td>Action | Adventure | Fantasy | Science Fiction</td>\n",
       "      <td>culture clash | future | space war | space colony</td>\n",
       "      <td>en</td>\n",
       "      <td>Avatar</td>\n",
       "      <td>In the 22nd century, a paraplegic Marine is di...</td>\n",
       "      <td>...</td>\n",
       "      <td>United States of America | United Kingdom</td>\n",
       "      <td>2009-12-10</td>\n",
       "      <td>2.787965e+09</td>\n",
       "      <td>162</td>\n",
       "      <td>English | Español</td>\n",
       "      <td>Released</td>\n",
       "      <td>Enter the World of Pandora.</td>\n",
       "      <td>7.2</td>\n",
       "      <td>11800.0</td>\n",
       "      <td>James Cameron</td>\n",
       "    </tr>\n",
       "    <tr>\n",
       "      <th>1</th>\n",
       "      <td>285</td>\n",
       "      <td>Pirates of the Caribbean: At World's End</td>\n",
       "      <td>Johnny Depp | Orlando Bloom | Keira Knightley ...</td>\n",
       "      <td>Dariusz Wolski | Gore Verbinski | Jerry Bruckh...</td>\n",
       "      <td>300000000.0</td>\n",
       "      <td>Adventure | Fantasy | Action</td>\n",
       "      <td>ocean | drug abuse | exotic island | east indi...</td>\n",
       "      <td>en</td>\n",
       "      <td>Pirates of the Caribbean: At World's End</td>\n",
       "      <td>Captain Barbossa, long believed to be dead, ha...</td>\n",
       "      <td>...</td>\n",
       "      <td>United States of America</td>\n",
       "      <td>2007-05-19</td>\n",
       "      <td>9.610000e+08</td>\n",
       "      <td>169</td>\n",
       "      <td>English</td>\n",
       "      <td>Released</td>\n",
       "      <td>At the end of the world, the adventure begins.</td>\n",
       "      <td>6.9</td>\n",
       "      <td>4500.0</td>\n",
       "      <td>Gore Verbinski</td>\n",
       "    </tr>\n",
       "    <tr>\n",
       "      <th>2</th>\n",
       "      <td>206647</td>\n",
       "      <td>Spectre</td>\n",
       "      <td>Daniel Craig | Christoph Waltz | Léa Seydoux |...</td>\n",
       "      <td>Thomas Newman | Sam Mendes | Anna Pinnock | Jo...</td>\n",
       "      <td>245000000.0</td>\n",
       "      <td>Action | Adventure | Crime</td>\n",
       "      <td>spy | based on novel | secret agent | sequel</td>\n",
       "      <td>en</td>\n",
       "      <td>Spectre</td>\n",
       "      <td>A cryptic message from Bond’s past sends him o...</td>\n",
       "      <td>...</td>\n",
       "      <td>United Kingdom | United States of America</td>\n",
       "      <td>2015-10-26</td>\n",
       "      <td>8.806746e+08</td>\n",
       "      <td>148</td>\n",
       "      <td>Français | English | Español | Italiano</td>\n",
       "      <td>Released</td>\n",
       "      <td>A Plan No One Escapes</td>\n",
       "      <td>6.3</td>\n",
       "      <td>4466.0</td>\n",
       "      <td>Sam Mendes</td>\n",
       "    </tr>\n",
       "    <tr>\n",
       "      <th>3</th>\n",
       "      <td>49026</td>\n",
       "      <td>The Dark Knight Rises</td>\n",
       "      <td>Christian Bale | Michael Caine | Gary Oldman |...</td>\n",
       "      <td>Hans Zimmer | Charles Roven | Christopher Nola...</td>\n",
       "      <td>250000000.0</td>\n",
       "      <td>Action | Crime | Drama | Thriller</td>\n",
       "      <td>dc comics | crime fighter | terrorist | secret...</td>\n",
       "      <td>en</td>\n",
       "      <td>The Dark Knight Rises</td>\n",
       "      <td>Following the death of District Attorney Harve...</td>\n",
       "      <td>...</td>\n",
       "      <td>United States of America</td>\n",
       "      <td>2012-07-16</td>\n",
       "      <td>1.084939e+09</td>\n",
       "      <td>165</td>\n",
       "      <td>English</td>\n",
       "      <td>Released</td>\n",
       "      <td>The Legend Ends</td>\n",
       "      <td>7.6</td>\n",
       "      <td>9106.0</td>\n",
       "      <td>Christopher Nolan</td>\n",
       "    </tr>\n",
       "    <tr>\n",
       "      <th>4</th>\n",
       "      <td>49529</td>\n",
       "      <td>John Carter</td>\n",
       "      <td>Taylor Kitsch | Lynn Collins | Samantha Morton...</td>\n",
       "      <td>Andrew Stanton | Andrew Stanton | John Lassete...</td>\n",
       "      <td>260000000.0</td>\n",
       "      <td>Action | Adventure | Science Fiction</td>\n",
       "      <td>based on novel | mars | medallion | space travel</td>\n",
       "      <td>en</td>\n",
       "      <td>John Carter</td>\n",
       "      <td>John Carter is a war-weary, former military ca...</td>\n",
       "      <td>...</td>\n",
       "      <td>United States of America</td>\n",
       "      <td>2012-03-07</td>\n",
       "      <td>2.841391e+08</td>\n",
       "      <td>132</td>\n",
       "      <td>English</td>\n",
       "      <td>Released</td>\n",
       "      <td>Lost in our world, found in another.</td>\n",
       "      <td>6.1</td>\n",
       "      <td>2124.0</td>\n",
       "      <td>Andrew Stanton</td>\n",
       "    </tr>\n",
       "  </tbody>\n",
       "</table>\n",
       "<p>5 rows × 22 columns</p>\n",
       "</div>"
      ],
      "text/plain": [
       "   movie_id                                     title  \\\n",
       "0     19995                                    Avatar   \n",
       "1       285  Pirates of the Caribbean: At World's End   \n",
       "2    206647                                   Spectre   \n",
       "3     49026                     The Dark Knight Rises   \n",
       "4     49529                               John Carter   \n",
       "\n",
       "                                                cast  \\\n",
       "0  Sam Worthington | Zoe Saldana | Sigourney Weav...   \n",
       "1  Johnny Depp | Orlando Bloom | Keira Knightley ...   \n",
       "2  Daniel Craig | Christoph Waltz | Léa Seydoux |...   \n",
       "3  Christian Bale | Michael Caine | Gary Oldman |...   \n",
       "4  Taylor Kitsch | Lynn Collins | Samantha Morton...   \n",
       "\n",
       "                                                crew       budget  \\\n",
       "0  Stephen E. Rivkin | Rick Carter | Christopher ...  237000000.0   \n",
       "1  Dariusz Wolski | Gore Verbinski | Jerry Bruckh...  300000000.0   \n",
       "2  Thomas Newman | Sam Mendes | Anna Pinnock | Jo...  245000000.0   \n",
       "3  Hans Zimmer | Charles Roven | Christopher Nola...  250000000.0   \n",
       "4  Andrew Stanton | Andrew Stanton | John Lassete...  260000000.0   \n",
       "\n",
       "                                           genres  \\\n",
       "0  Action | Adventure | Fantasy | Science Fiction   \n",
       "1                    Adventure | Fantasy | Action   \n",
       "2                      Action | Adventure | Crime   \n",
       "3               Action | Crime | Drama | Thriller   \n",
       "4            Action | Adventure | Science Fiction   \n",
       "\n",
       "                                            keywords original_language  \\\n",
       "0  culture clash | future | space war | space colony                en   \n",
       "1  ocean | drug abuse | exotic island | east indi...                en   \n",
       "2       spy | based on novel | secret agent | sequel                en   \n",
       "3  dc comics | crime fighter | terrorist | secret...                en   \n",
       "4   based on novel | mars | medallion | space travel                en   \n",
       "\n",
       "                             original_title  \\\n",
       "0                                    Avatar   \n",
       "1  Pirates of the Caribbean: At World's End   \n",
       "2                                   Spectre   \n",
       "3                     The Dark Knight Rises   \n",
       "4                               John Carter   \n",
       "\n",
       "                                            overview  ...  \\\n",
       "0  In the 22nd century, a paraplegic Marine is di...  ...   \n",
       "1  Captain Barbossa, long believed to be dead, ha...  ...   \n",
       "2  A cryptic message from Bond’s past sends him o...  ...   \n",
       "3  Following the death of District Attorney Harve...  ...   \n",
       "4  John Carter is a war-weary, former military ca...  ...   \n",
       "\n",
       "                        production_countries release_date       revenue  \\\n",
       "0  United States of America | United Kingdom   2009-12-10  2.787965e+09   \n",
       "1                   United States of America   2007-05-19  9.610000e+08   \n",
       "2  United Kingdom | United States of America   2015-10-26  8.806746e+08   \n",
       "3                   United States of America   2012-07-16  1.084939e+09   \n",
       "4                   United States of America   2012-03-07  2.841391e+08   \n",
       "\n",
       "  runtime                         spoken_languages    status  \\\n",
       "0     162                        English | Español  Released   \n",
       "1     169                                  English  Released   \n",
       "2     148  Français | English | Español | Italiano  Released   \n",
       "3     165                                  English  Released   \n",
       "4     132                                  English  Released   \n",
       "\n",
       "                                          tagline vote_average vote_count  \\\n",
       "0                     Enter the World of Pandora.          7.2    11800.0   \n",
       "1  At the end of the world, the adventure begins.          6.9     4500.0   \n",
       "2                           A Plan No One Escapes          6.3     4466.0   \n",
       "3                                 The Legend Ends          7.6     9106.0   \n",
       "4            Lost in our world, found in another.          6.1     2124.0   \n",
       "\n",
       "            director  \n",
       "0      James Cameron  \n",
       "1     Gore Verbinski  \n",
       "2         Sam Mendes  \n",
       "3  Christopher Nolan  \n",
       "4     Andrew Stanton  \n",
       "\n",
       "[5 rows x 22 columns]"
      ]
     },
     "execution_count": 23,
     "metadata": {},
     "output_type": "execute_result"
    }
   ],
   "source": [
    "movies_clean.head()"
   ]
  },
  {
   "cell_type": "markdown",
   "metadata": {},
   "source": [
    "**Save Changes to the CSV file we saved to it before**"
   ]
  },
  {
   "cell_type": "code",
   "execution_count": null,
   "metadata": {},
   "outputs": [],
   "source": [
    "# save to csv file\n",
    "movies_clean.to_csv('movies.csv')"
   ]
  },
  {
   "cell_type": "markdown",
   "metadata": {},
   "source": [
    "<a id='eda'></a>\n",
    "## Exploratory Data Analysis"
   ]
  },
  {
   "cell_type": "markdown",
   "metadata": {},
   "source": [
    "**Extract the year from column( release_date) using str.extract method**"
   ]
  },
  {
   "cell_type": "code",
   "execution_count": 25,
   "metadata": {},
   "outputs": [],
   "source": [
    "# Extract the year from column( release_date) using str.extract method and regular expression\n",
    "movies_clean['year'] = movies_clean.release_date.str.extract('(\\d{4})')"
   ]
  },
  {
   "cell_type": "code",
   "execution_count": 26,
   "metadata": {},
   "outputs": [],
   "source": [
    "movies_clean.to_csv('movies.csv')"
   ]
  },
  {
   "cell_type": "code",
   "execution_count": 27,
   "metadata": {},
   "outputs": [],
   "source": [
    "sns.set_style('darkgrid')"
   ]
  },
  {
   "cell_type": "markdown",
   "metadata": {},
   "source": [
    "### Q1:What rate of movie production over years for each movie genre?"
   ]
  },
  {
   "cell_type": "markdown",
   "metadata": {},
   "source": [
    "_**Get the Rate of Drama Movies**_"
   ]
  },
  {
   "cell_type": "code",
   "execution_count": 28,
   "metadata": {
    "scrolled": false
   },
   "outputs": [
    {
     "data": {
      "text/plain": [
       "Text(0.5, 1.0, 'Drama Over Years')"
      ]
     },
     "execution_count": 28,
     "metadata": {},
     "output_type": "execute_result"
    },
    {
     "data": {
      "image/png": "[encoded data removed]",
      "text/plain": [
       "<Figure size 1152x1152 with 1 Axes>"
      ]
     },
     "metadata": {},
     "output_type": "display_data"
    }
   ],
   "source": [
    "# Drama Movies\n",
    "drama = movies_clean.query('genres == \"Drama\"')['year'].value_counts(ascending=True)\n",
    "drama.plot(kind = 'bar',figsize=(16,16))\n",
    "plt.xlabel('Year', fontsize = 14)\n",
    "plt.ylabel('Movie_count', fontsize= 14)\n",
    "plt.title('Drama Over Years', fontsize=16)"
   ]
  },
  {
   "cell_type": "markdown",
   "metadata": {},
   "source": [
    "_**Get the Rate of Comedy Movies**_"
   ]
  },
  {
   "cell_type": "code",
   "execution_count": 29,
   "metadata": {},
   "outputs": [
    {
     "data": {
      "text/plain": [
       "Text(0.5, 1.0, 'Comedy Over Years')"
      ]
     },
     "execution_count": 29,
     "metadata": {},
     "output_type": "execute_result"
    },
    {
     "data": {
      "image/png": "[encoded data removed]",
      "text/plain": [
       "<Figure size 1152x1152 with 1 Axes>"
      ]
     },
     "metadata": {},
     "output_type": "display_data"
    }
   ],
   "source": [
    "# Comedy Movies\n",
    "comedy = movies_clean.query('genres == \"Comedy\"')['year'].value_counts(ascending=True)\n",
    "comedy.plot(kind = 'bar',figsize=(16,16))\n",
    "plt.xlabel('Year', fontsize = 14)\n",
    "plt.ylabel('Movie_count', fontsize= 14)\n",
    "plt.title('Comedy Over Years', fontsize=16)"
   ]
  },
  {
   "cell_type": "markdown",
   "metadata": {},
   "source": [
    "_**Get the Rate of Romance Movies**_"
   ]
  },
  {
   "cell_type": "code",
   "execution_count": 30,
   "metadata": {},
   "outputs": [
    {
     "data": {
      "text/plain": [
       "Text(0.5, 1.0, 'Romance Over Years')"
      ]
     },
     "execution_count": 30,
     "metadata": {},
     "output_type": "execute_result"
    },
    {
     "data": {
      "image/png": "[encoded data removed]",
      "text/plain": [
       "<Figure size 432x432 with 1 Axes>"
      ]
     },
     "metadata": {},
     "output_type": "display_data"
    }
   ],
   "source": [
    "# Romance Movies\n",
    "romance = movies_clean.query('genres == \"Romance\"')['year'].value_counts()\n",
    "romance.plot(kind = 'bar',figsize=(6,6))\n",
    "plt.xlabel('Year', fontsize = 14)\n",
    "plt.ylabel('Movie_count', fontsize= 14)\n",
    "plt.title('Romance Over Years', fontsize=16)"
   ]
  },
  {
   "cell_type": "markdown",
   "metadata": {},
   "source": [
    "_**Get the Rate of Adventure Movies**_"
   ]
  },
  {
   "cell_type": "code",
   "execution_count": 31,
   "metadata": {},
   "outputs": [
    {
     "data": {
      "text/plain": [
       "Text(0.5, 1.0, 'Adventure Over Years')"
      ]
     },
     "execution_count": 31,
     "metadata": {},
     "output_type": "execute_result"
    },
    {
     "data": {
      "image/png": "[encoded data removed]",
      "text/plain": [
       "<Figure size 576x576 with 1 Axes>"
      ]
     },
     "metadata": {},
     "output_type": "display_data"
    }
   ],
   "source": [
    "# Adventure Movies\n",
    "adventure = movies_clean.query('genres == \"Adventure\"')['year'].value_counts()\n",
    "adventure.plot(kind = 'bar',figsize=(8,8))\n",
    "plt.xlabel('Year', fontsize = 14)\n",
    "plt.ylabel('Movie_count', fontsize= 14)\n",
    "plt.title('Adventure Over Years', fontsize=16)"
   ]
  },
  {
   "cell_type": "markdown",
   "metadata": {},
   "source": [
    "_**Get the Rate of Horror Movies**_"
   ]
  },
  {
   "cell_type": "code",
   "execution_count": 32,
   "metadata": {},
   "outputs": [
    {
     "data": {
      "text/plain": [
       "Text(0.5, 1.0, 'Horror Over Years')"
      ]
     },
     "execution_count": 32,
     "metadata": {},
     "output_type": "execute_result"
    },
    {
     "data": {
      "image/png": "[encoded data removed]",
      "text/plain": [
       "<Figure size 720x720 with 1 Axes>"
      ]
     },
     "metadata": {},
     "output_type": "display_data"
    }
   ],
   "source": [
    "# Horror Movies\n",
    "horror = movies_clean.query('genres == \"Horror\"')['year'].value_counts(ascending=True)\n",
    "horror.plot(kind = 'bar',figsize=(10,10))\n",
    "plt.xlabel('Year', fontsize = 14)\n",
    "plt.ylabel('Movie_count', fontsize= 14)\n",
    "plt.title('Horror Over Years', fontsize=16)"
   ]
  },
  {
   "cell_type": "markdown",
   "metadata": {},
   "source": [
    "_**Get the Rate of Crime Movies**_"
   ]
  },
  {
   "cell_type": "code",
   "execution_count": 33,
   "metadata": {},
   "outputs": [
    {
     "data": {
      "text/plain": [
       "Text(0.5, 1.0, 'Crime Over Years')"
      ]
     },
     "execution_count": 33,
     "metadata": {},
     "output_type": "execute_result"
    },
    {
     "data": {
      "image/png": "[encoded data removed]",
      "text/plain": [
       "<Figure size 432x432 with 1 Axes>"
      ]
     },
     "metadata": {},
     "output_type": "display_data"
    }
   ],
   "source": [
    "# Crime Movies\n",
    "crime = movies_clean.query('genres == \"Crime\"')['year'].value_counts()\n",
    "crime.plot(kind = 'bar',figsize=(6,6))\n",
    "plt.xlabel('Year', fontsize = 14)\n",
    "plt.ylabel('Movie_count', fontsize= 14)\n",
    "plt.title('Crime Over Years', fontsize=16)"
   ]
  },
  {
   "cell_type": "markdown",
   "metadata": {},
   "source": [
    "_**Get the Rate of Thriller Movies**_"
   ]
  },
  {
   "cell_type": "code",
   "execution_count": 34,
   "metadata": {},
   "outputs": [
    {
     "data": {
      "text/plain": [
       "Text(0.5, 1.0, 'Thriller Over Years')"
      ]
     },
     "execution_count": 34,
     "metadata": {},
     "output_type": "execute_result"
    },
    {
     "data": {
      "image/png": "[encoded data removed]",
      "text/plain": [
       "<Figure size 576x576 with 1 Axes>"
      ]
     },
     "metadata": {},
     "output_type": "display_data"
    }
   ],
   "source": [
    "# Thriller Movies\n",
    "thriller = movies_clean.query('genres == \"Thriller\"')['year'].value_counts(ascending=True)\n",
    "thriller.plot(kind = 'bar',figsize=(8,8))\n",
    "plt.xlabel('Year', fontsize = 14)\n",
    "plt.ylabel('Movie_count', fontsize= 14)\n",
    "plt.title('Thriller Over Years', fontsize=16)"
   ]
  },
  {
   "cell_type": "markdown",
   "metadata": {},
   "source": [
    "_**Get the Rate of Family Movies**_"
   ]
  },
  {
   "cell_type": "code",
   "execution_count": 35,
   "metadata": {},
   "outputs": [
    {
     "data": {
      "text/plain": [
       "Text(0.5, 1.0, 'Family Over Years')"
      ]
     },
     "execution_count": 35,
     "metadata": {},
     "output_type": "execute_result"
    },
    {
     "data": {
      "image/png": "[encoded data removed]",
      "text/plain": [
       "<Figure size 432x432 with 1 Axes>"
      ]
     },
     "metadata": {},
     "output_type": "display_data"
    }
   ],
   "source": [
    "#Family Movies\n",
    "family = movies_clean.query('genres == \"Family\"')['year'].value_counts()\n",
    "family.plot(kind = 'bar',figsize=(6,6))\n",
    "plt.xlabel('Year', fontsize = 14)\n",
    "plt.ylabel('Movie_count', fontsize= 14)\n",
    "plt.title('Family Over Years', fontsize=16)"
   ]
  },
  {
   "cell_type": "markdown",
   "metadata": {},
   "source": [
    "_**Get the Rate of Music Movies**_"
   ]
  },
  {
   "cell_type": "code",
   "execution_count": 36,
   "metadata": {},
   "outputs": [
    {
     "data": {
      "text/plain": [
       "Text(0.5, 1.0, 'Music Movies Over Years')"
      ]
     },
     "execution_count": 36,
     "metadata": {},
     "output_type": "execute_result"
    },
    {
     "data": {
      "image/png": "[encoded data removed]",
      "text/plain": [
       "<Figure size 432x432 with 1 Axes>"
      ]
     },
     "metadata": {},
     "output_type": "display_data"
    }
   ],
   "source": [
    "# Music Movies\n",
    "music = movies_clean.query('genres == \"Music\"')['year'].value_counts()\n",
    "music.plot(kind = 'bar',figsize=(6,6))\n",
    "plt.xlabel('Year', fontsize = 14)\n",
    "plt.ylabel('Music Over Years', fontsize=16)\n",
    "plt.title('Music Movies Over Years', fontsize=16)"
   ]
  },
  {
   "cell_type": "markdown",
   "metadata": {},
   "source": [
    "_**Get the Rate of Animation Movies**_"
   ]
  },
  {
   "cell_type": "code",
   "execution_count": 37,
   "metadata": {},
   "outputs": [
    {
     "data": {
      "text/plain": [
       "Text(0.5, 1.0, 'Animation Over Years')"
      ]
     },
     "execution_count": 37,
     "metadata": {},
     "output_type": "execute_result"
    },
    {
     "data": {
      "image/png": "[encoded data removed]",
      "text/plain": [
       "<Figure size 432x432 with 1 Axes>"
      ]
     },
     "metadata": {},
     "output_type": "display_data"
    }
   ],
   "source": [
    "# Animation Movies\n",
    "animation = movies_clean.query('genres == \"Animation\"')['year'].value_counts()\n",
    "animation.plot(kind = 'bar',figsize=(6,6))\n",
    "plt.xlabel('Year', fontsize = 14)\n",
    "plt.ylabel('Movie_count', fontsize= 14)\n",
    "plt.title('Animation Over Years', fontsize=16)"
   ]
  },
  {
   "cell_type": "markdown",
   "metadata": {},
   "source": [
    "_**Get the Rate of Action Movies**_"
   ]
  },
  {
   "cell_type": "code",
   "execution_count": 38,
   "metadata": {},
   "outputs": [
    {
     "data": {
      "text/plain": [
       "Text(0.5, 1.0, 'Action Over Years')"
      ]
     },
     "execution_count": 38,
     "metadata": {},
     "output_type": "execute_result"
    },
    {
     "data": {
      "image/png": "[encoded data removed]",
      "text/plain": [
       "<Figure size 720x720 with 1 Axes>"
      ]
     },
     "metadata": {},
     "output_type": "display_data"
    }
   ],
   "source": [
    "# Action Movies\n",
    "action = movies_clean.query('genres == \"Action\"')['year'].value_counts(ascending=True)\n",
    "action.plot(kind = 'bar',figsize=(10,10))\n",
    "plt.xlabel('Year', fontsize = 14)\n",
    "plt.ylabel('Movie_count', fontsize= 14)\n",
    "plt.title('Action Over Years', fontsize=16)"
   ]
  },
  {
   "cell_type": "markdown",
   "metadata": {},
   "source": [
    "_**Get the Rate of Fantasy Movies**_"
   ]
  },
  {
   "cell_type": "code",
   "execution_count": 39,
   "metadata": {},
   "outputs": [
    {
     "data": {
      "text/plain": [
       "Text(0.5, 1.0, 'Fantasy Over Years')"
      ]
     },
     "execution_count": 39,
     "metadata": {},
     "output_type": "execute_result"
    },
    {
     "data": {
      "image/png": "[encoded data removed]",
      "text/plain": [
       "<Figure size 576x576 with 1 Axes>"
      ]
     },
     "metadata": {},
     "output_type": "display_data"
    }
   ],
   "source": [
    "# Fantasy Movies\n",
    "fantasy = movies_clean.query('genres == \"Fantasy\"')['year'].value_counts(ascending=True)\n",
    "fantasy.plot(kind = 'bar',figsize=(8,8))\n",
    "plt.xlabel('Year', fontsize = 14)\n",
    "plt.ylabel('Movie_count', fontsize= 14)\n",
    "plt.title('Fantasy Over Years', fontsize=16)"
   ]
  },
  {
   "cell_type": "markdown",
   "metadata": {},
   "source": [
    "_**Get the Rate of Western Movies**_"
   ]
  },
  {
   "cell_type": "code",
   "execution_count": 40,
   "metadata": {},
   "outputs": [
    {
     "data": {
      "text/plain": [
       "Text(0.5, 1.0, 'Western Over Years')"
      ]
     },
     "execution_count": 40,
     "metadata": {},
     "output_type": "execute_result"
    },
    {
     "data": {
      "image/png": "[encoded data removed]",
      "text/plain": [
       "<Figure size 576x576 with 1 Axes>"
      ]
     },
     "metadata": {},
     "output_type": "display_data"
    }
   ],
   "source": [
    "# Western Movies\n",
    "western = movies_clean.query('genres == \"Western\"')['year'].value_counts(ascending=True)\n",
    "western.plot(kind = 'bar',figsize=(8,8))\n",
    "plt.xlabel('Year', fontsize = 14)\n",
    "plt.ylabel('Movie_count', fontsize= 14)\n",
    "plt.title('Western Over Years', fontsize=16)"
   ]
  },
  {
   "cell_type": "markdown",
   "metadata": {},
   "source": [
    "_**Get the Rate of Science Fiction Movies**_"
   ]
  },
  {
   "cell_type": "code",
   "execution_count": 41,
   "metadata": {
    "scrolled": false
   },
   "outputs": [
    {
     "data": {
      "text/plain": [
       "Text(0.5, 1.0, 'Science Fiction Over Years')"
      ]
     },
     "execution_count": 41,
     "metadata": {},
     "output_type": "execute_result"
    },
    {
     "data": {
      "image/png": "[encoded data removed]",
      "text/plain": [
       "<Figure size 576x576 with 1 Axes>"
      ]
     },
     "metadata": {},
     "output_type": "display_data"
    }
   ],
   "source": [
    "# Science Fiction Movies\n",
    "scinece_fiction = movies_clean.query('genres == \"Science Fiction\"')['year'].value_counts(ascending=True)\n",
    "scinece_fiction.plot(kind = 'bar',figsize=(8,8))\n",
    "plt.xlabel('Year', fontsize = 14)\n",
    "plt.ylabel('Movie_count', fontsize= 14)\n",
    "plt.title('Science Fiction Over Years', fontsize=16)"
   ]
  },
  {
   "cell_type": "markdown",
   "metadata": {},
   "source": [
    "### Q2: Which genres are most popular, profitable, high rated, high vote count from year to year?"
   ]
  },
  {
   "cell_type": "markdown",
   "metadata": {},
   "source": [
    "_**Getting the Profit Values and appending them into a column \"Profit\"**_<br/>\n",
    "_**Save the column into the CSV file**_"
   ]
  },
  {
   "cell_type": "code",
   "execution_count": 42,
   "metadata": {},
   "outputs": [],
   "source": [
    "# getting the profit and appending it into profit column\n",
    "movies_clean['profit'] = movies_clean.revenue - movies_clean.budget\n",
    "movies_clean.head()\n",
    "movies_clean.to_csv('movies.csv')"
   ]
  },
  {
   "cell_type": "markdown",
   "metadata": {},
   "source": [
    "_**function to get data and concatenating it to one of the dataset properties classification**_<br/>\n",
    "_**Here we need to split movie genres and connecting each genre with its related data**_"
   ]
  },
  {
   "cell_type": "code",
   "execution_count": 43,
   "metadata": {
    "scrolled": false
   },
   "outputs": [],
   "source": [
    "# function to get data and concatenating it to one of the dataset properties classification\n",
    "# Here we need to split movie genres and connecting each genre with its related data\n",
    "def get_data(data, column):\n",
    "    data = data[column].str.cat(sep = '|')\n",
    "    data = pd.Series(data.split('|')).str.strip()\n",
    "    data_counts = data.value_counts(ascending=True)\n",
    "    return data_counts"
   ]
  },
  {
   "cell_type": "markdown",
   "metadata": {},
   "source": [
    "_**getting the highest profit data and connecting them to its related movie genre**_"
   ]
  },
  {
   "cell_type": "code",
   "execution_count": 44,
   "metadata": {},
   "outputs": [
    {
     "data": {
      "text/plain": [
       "Text(0.5, 1.0, 'Most Profitable Movie Genres')"
      ]
     },
     "execution_count": 44,
     "metadata": {},
     "output_type": "execute_result"
    },
    {
     "data": {
      "image/png": "[encoded data removed]",
      "text/plain": [
       "<Figure size 1008x1008 with 1 Axes>"
      ]
     },
     "metadata": {},
     "output_type": "display_data"
    }
   ],
   "source": [
    "# getting the highest profit data and connecting them to its related movie genre\n",
    "highest_profit = movies_clean[movies_clean.profit > movies_clean.profit.mean()]\n",
    "movie_genre = get_data(highest_profit,'genres')\n",
    "movie_genre.plot(kind='bar', figsize=(14,14), color='yellowgreen')\n",
    "plt.xlabel('Movie Genres', fontsize=14)\n",
    "plt.ylabel('Movies Number', fontsize=14)\n",
    "plt.title('Most Profitable Movie Genres', fontsize=16)"
   ]
  },
  {
   "cell_type": "markdown",
   "metadata": {},
   "source": [
    "_**getting the highest vote_average data and connecting them to its related movie genre**_"
   ]
  },
  {
   "cell_type": "code",
   "execution_count": 45,
   "metadata": {},
   "outputs": [
    {
     "data": {
      "text/plain": [
       "Text(0.5, 1.0, 'Movies with Highest Vote Average')"
      ]
     },
     "execution_count": 45,
     "metadata": {},
     "output_type": "execute_result"
    },
    {
     "data": {
      "image/png": "[encoded data removed]",
      "text/plain": [
       "<Figure size 1008x1008 with 1 Axes>"
      ]
     },
     "metadata": {},
     "output_type": "display_data"
    }
   ],
   "source": [
    "# getting the highest vote_average data and connecting them to its related movie genre\n",
    "highest_vote_average = movies_clean[movies_clean.vote_average > movies_clean.vote_average.mean()]\n",
    "movie_genre = get_data(highest_vote_average,'genres')\n",
    "movie_genre.plot(kind='bar', figsize=(14,14), color='purple')\n",
    "plt.xlabel('Movie Genre', fontsize=16)\n",
    "plt.ylabel('No. of Movies', fontsize=16)\n",
    "plt.title('Movies with Highest Vote Average', fontsize=18)"
   ]
  },
  {
   "cell_type": "markdown",
   "metadata": {},
   "source": [
    "_**getting the highest vote_count data and connecting them to its related movie genre**_"
   ]
  },
  {
   "cell_type": "code",
   "execution_count": 46,
   "metadata": {},
   "outputs": [
    {
     "data": {
      "text/plain": [
       "Text(0.5, 1.0, 'Movies with Highest Vote Count')"
      ]
     },
     "execution_count": 46,
     "metadata": {},
     "output_type": "execute_result"
    },
    {
     "data": {
      "image/png": "[encoded data removed]",
      "text/plain": [
       "<Figure size 1008x1008 with 1 Axes>"
      ]
     },
     "metadata": {},
     "output_type": "display_data"
    }
   ],
   "source": [
    "# getting the highest vote_count data and connecting them to its related movie genre\n",
    "highest_vote_count = movies_clean[movies_clean.vote_count > movies_clean.vote_count.mean()]\n",
    "movie_genre = get_data(highest_vote_count,'genres')\n",
    "movie_genre.plot(kind='bar', figsize=(14,14), color='violet')\n",
    "plt.xlabel('Movie Genre', fontsize=16)\n",
    "plt.ylabel('No. of Movies', fontsize=16)\n",
    "plt.title('Movies with Highest Vote Count', fontsize=18)"
   ]
  },
  {
   "cell_type": "markdown",
   "metadata": {},
   "source": [
    "_**getting the highest popularity data and connecting them to its related movie genre**_"
   ]
  },
  {
   "cell_type": "code",
   "execution_count": 47,
   "metadata": {},
   "outputs": [
    {
     "data": {
      "text/plain": [
       "Text(0.5, 1.0, 'Movies with Highest Popularity')"
      ]
     },
     "execution_count": 47,
     "metadata": {},
     "output_type": "execute_result"
    },
    {
     "data": {
      "image/png": "[encoded data removed]",
      "text/plain": [
       "<Figure size 1008x1008 with 1 Axes>"
      ]
     },
     "metadata": {},
     "output_type": "display_data"
    }
   ],
   "source": [
    "# getting the highest popularity data and connecting them to its related movie genre\n",
    "highest_popularity = movies_clean[movies_clean.popularity > movies_clean.popularity.mean()]\n",
    "movie_genre = get_data(highest_popularity,'genres')\n",
    "movie_genre.plot(kind='bar', figsize=(14,14), color='#00BFFF')\n",
    "plt.xlabel('Movie Genre', fontsize=16)\n",
    "plt.ylabel('No. of Movies', fontsize=16)\n",
    "plt.title('Movies with Highest Popularity', fontsize=18)"
   ]
  },
  {
   "cell_type": "markdown",
   "metadata": {},
   "source": [
    "## TOP 10 Movies\n",
    "### Q3A: What kinds of properties are associated with movies that have high revenues?"
   ]
  },
  {
   "cell_type": "markdown",
   "metadata": {},
   "source": [
    "_**getting the Top 10 highest revenue movies and their properties**_"
   ]
  },
  {
   "cell_type": "code",
   "execution_count": 48,
   "metadata": {},
   "outputs": [
    {
     "data": {
      "text/html": [
       "<div>\n",
       "<style scoped>\n",
       "    .dataframe tbody tr th:only-of-type {\n",
       "        vertical-align: middle;\n",
       "    }\n",
       "\n",
       "    .dataframe tbody tr th {\n",
       "        vertical-align: top;\n",
       "    }\n",
       "\n",
       "    .dataframe thead th {\n",
       "        text-align: right;\n",
       "    }\n",
       "</style>\n",
       "<table border=\"1\" class=\"dataframe\">\n",
       "  <thead>\n",
       "    <tr style=\"text-align: right;\">\n",
       "      <th></th>\n",
       "      <th>movie_id</th>\n",
       "      <th>title</th>\n",
       "      <th>cast</th>\n",
       "      <th>crew</th>\n",
       "      <th>budget</th>\n",
       "      <th>genres</th>\n",
       "      <th>keywords</th>\n",
       "      <th>original_language</th>\n",
       "      <th>original_title</th>\n",
       "      <th>overview</th>\n",
       "      <th>...</th>\n",
       "      <th>revenue</th>\n",
       "      <th>runtime</th>\n",
       "      <th>spoken_languages</th>\n",
       "      <th>status</th>\n",
       "      <th>tagline</th>\n",
       "      <th>vote_average</th>\n",
       "      <th>vote_count</th>\n",
       "      <th>director</th>\n",
       "      <th>year</th>\n",
       "      <th>profit</th>\n",
       "    </tr>\n",
       "  </thead>\n",
       "  <tbody>\n",
       "    <tr>\n",
       "      <th>0</th>\n",
       "      <td>19995</td>\n",
       "      <td>Avatar</td>\n",
       "      <td>Sam Worthington | Zoe Saldana | Sigourney Weav...</td>\n",
       "      <td>Stephen E. Rivkin | Rick Carter | Christopher ...</td>\n",
       "      <td>237000000.0</td>\n",
       "      <td>Action | Adventure | Fantasy | Science Fiction</td>\n",
       "      <td>culture clash | future | space war | space colony</td>\n",
       "      <td>en</td>\n",
       "      <td>Avatar</td>\n",
       "      <td>In the 22nd century, a paraplegic Marine is di...</td>\n",
       "      <td>...</td>\n",
       "      <td>2.787965e+09</td>\n",
       "      <td>162</td>\n",
       "      <td>English | Español</td>\n",
       "      <td>Released</td>\n",
       "      <td>Enter the World of Pandora.</td>\n",
       "      <td>7.2</td>\n",
       "      <td>11800.0</td>\n",
       "      <td>James Cameron</td>\n",
       "      <td>2009</td>\n",
       "      <td>2.550965e+09</td>\n",
       "    </tr>\n",
       "    <tr>\n",
       "      <th>25</th>\n",
       "      <td>597</td>\n",
       "      <td>Titanic</td>\n",
       "      <td>Kate Winslet | Leonardo DiCaprio | Frances Fis...</td>\n",
       "      <td>Mali Finn | James Horner | James Cameron | Jam...</td>\n",
       "      <td>200000000.0</td>\n",
       "      <td>Drama | Romance | Thriller</td>\n",
       "      <td>shipwreck | iceberg | ship | panic</td>\n",
       "      <td>en</td>\n",
       "      <td>Titanic</td>\n",
       "      <td>84 years later, a 101-year-old woman named Ros...</td>\n",
       "      <td>...</td>\n",
       "      <td>1.845034e+09</td>\n",
       "      <td>194</td>\n",
       "      <td>English | Français | Deutsch | svenska</td>\n",
       "      <td>Released</td>\n",
       "      <td>Nothing on Earth could come between them.</td>\n",
       "      <td>7.5</td>\n",
       "      <td>7562.0</td>\n",
       "      <td>James Cameron</td>\n",
       "      <td>1997</td>\n",
       "      <td>1.645034e+09</td>\n",
       "    </tr>\n",
       "    <tr>\n",
       "      <th>16</th>\n",
       "      <td>24428</td>\n",
       "      <td>The Avengers</td>\n",
       "      <td>Robert Downey Jr. | Chris Evans | Mark Ruffalo...</td>\n",
       "      <td>Alan Silvestri | Christopher Boyes | Christoph...</td>\n",
       "      <td>220000000.0</td>\n",
       "      <td>Science Fiction | Action | Adventure</td>\n",
       "      <td>new york | shield | marvel comic | superhero</td>\n",
       "      <td>en</td>\n",
       "      <td>The Avengers</td>\n",
       "      <td>When an unexpected enemy emerges and threatens...</td>\n",
       "      <td>...</td>\n",
       "      <td>1.519558e+09</td>\n",
       "      <td>143</td>\n",
       "      <td>English</td>\n",
       "      <td>Released</td>\n",
       "      <td>Some assembly required.</td>\n",
       "      <td>7.4</td>\n",
       "      <td>11776.0</td>\n",
       "      <td>Joss Whedon</td>\n",
       "      <td>2012</td>\n",
       "      <td>1.299558e+09</td>\n",
       "    </tr>\n",
       "    <tr>\n",
       "      <th>28</th>\n",
       "      <td>135397</td>\n",
       "      <td>Jurassic World</td>\n",
       "      <td>Chris Pratt | Bryce Dallas Howard | Irrfan Kha...</td>\n",
       "      <td>Steven Spielberg | John Papsidera | Frank Mars...</td>\n",
       "      <td>150000000.0</td>\n",
       "      <td>Action | Adventure | Science Fiction | Thriller</td>\n",
       "      <td>monster | dna | tyrannosaurus rex | velociraptor</td>\n",
       "      <td>en</td>\n",
       "      <td>Jurassic World</td>\n",
       "      <td>Twenty-two years after the events of Jurassic ...</td>\n",
       "      <td>...</td>\n",
       "      <td>1.513529e+09</td>\n",
       "      <td>124</td>\n",
       "      <td>English</td>\n",
       "      <td>Released</td>\n",
       "      <td>The park is open.</td>\n",
       "      <td>6.5</td>\n",
       "      <td>8662.0</td>\n",
       "      <td>Colin Trevorrow</td>\n",
       "      <td>2015</td>\n",
       "      <td>1.363529e+09</td>\n",
       "    </tr>\n",
       "    <tr>\n",
       "      <th>44</th>\n",
       "      <td>168259</td>\n",
       "      <td>Furious 7</td>\n",
       "      <td>Vin Diesel | Paul Walker | Dwayne Johnson | Mi...</td>\n",
       "      <td>James Wan | Sanja Milkovic Hays | Peter Brown ...</td>\n",
       "      <td>190000000.0</td>\n",
       "      <td>Action</td>\n",
       "      <td>car race | speed | revenge | suspense</td>\n",
       "      <td>en</td>\n",
       "      <td>Furious 7</td>\n",
       "      <td>Deckard Shaw seeks revenge against Dominic Tor...</td>\n",
       "      <td>...</td>\n",
       "      <td>1.506249e+09</td>\n",
       "      <td>137</td>\n",
       "      <td>English</td>\n",
       "      <td>Released</td>\n",
       "      <td>Vengeance Hits Home</td>\n",
       "      <td>7.3</td>\n",
       "      <td>4176.0</td>\n",
       "      <td>James Wan</td>\n",
       "      <td>2015</td>\n",
       "      <td>1.316249e+09</td>\n",
       "    </tr>\n",
       "    <tr>\n",
       "      <th>7</th>\n",
       "      <td>99861</td>\n",
       "      <td>Avengers: Age of Ultron</td>\n",
       "      <td>Robert Downey Jr. | Chris Hemsworth | Mark Ruf...</td>\n",
       "      <td>Danny Elfman | Christopher Boyes | Christopher...</td>\n",
       "      <td>280000000.0</td>\n",
       "      <td>Action | Adventure | Science Fiction</td>\n",
       "      <td>marvel comic | sequel | superhero | based on c...</td>\n",
       "      <td>en</td>\n",
       "      <td>Avengers: Age of Ultron</td>\n",
       "      <td>When Tony Stark tries to jumpstart a dormant p...</td>\n",
       "      <td>...</td>\n",
       "      <td>1.405404e+09</td>\n",
       "      <td>141</td>\n",
       "      <td>English</td>\n",
       "      <td>Released</td>\n",
       "      <td>A New Age Has Come.</td>\n",
       "      <td>7.3</td>\n",
       "      <td>6767.0</td>\n",
       "      <td>Joss Whedon</td>\n",
       "      <td>2015</td>\n",
       "      <td>1.125404e+09</td>\n",
       "    </tr>\n",
       "    <tr>\n",
       "      <th>124</th>\n",
       "      <td>109445</td>\n",
       "      <td>Frozen</td>\n",
       "      <td>Kristen Bell | Idina Menzel | Jonathan Groff |...</td>\n",
       "      <td>John Lasseter | Christophe Beck | Chris Buck |...</td>\n",
       "      <td>150000000.0</td>\n",
       "      <td>Animation | Adventure | Family</td>\n",
       "      <td>queen | musical | princess | betrayal</td>\n",
       "      <td>en</td>\n",
       "      <td>Frozen</td>\n",
       "      <td>Young princess Anna of Arendelle dreams about ...</td>\n",
       "      <td>...</td>\n",
       "      <td>1.274219e+09</td>\n",
       "      <td>102</td>\n",
       "      <td>English</td>\n",
       "      <td>Released</td>\n",
       "      <td>Only the act of true love will thaw a frozen h...</td>\n",
       "      <td>7.3</td>\n",
       "      <td>5295.0</td>\n",
       "      <td>Chris Buck</td>\n",
       "      <td>2013</td>\n",
       "      <td>1.124219e+09</td>\n",
       "    </tr>\n",
       "    <tr>\n",
       "      <th>31</th>\n",
       "      <td>68721</td>\n",
       "      <td>Iron Man 3</td>\n",
       "      <td>Robert Downey Jr. | Gwyneth Paltrow | Don Chea...</td>\n",
       "      <td>Shane Black | Shane Black | John Toll | Louise...</td>\n",
       "      <td>200000000.0</td>\n",
       "      <td>Action | Adventure | Science Fiction</td>\n",
       "      <td>terrorist | war on terror | tennessee | malibu</td>\n",
       "      <td>en</td>\n",
       "      <td>Iron Man 3</td>\n",
       "      <td>When Tony Stark's world is torn apart by a for...</td>\n",
       "      <td>...</td>\n",
       "      <td>1.215440e+09</td>\n",
       "      <td>130</td>\n",
       "      <td>English</td>\n",
       "      <td>Released</td>\n",
       "      <td>Unleash the power behind the armor.</td>\n",
       "      <td>6.8</td>\n",
       "      <td>8806.0</td>\n",
       "      <td>Shane Black</td>\n",
       "      <td>2013</td>\n",
       "      <td>1.015440e+09</td>\n",
       "    </tr>\n",
       "    <tr>\n",
       "      <th>546</th>\n",
       "      <td>211672</td>\n",
       "      <td>Minions</td>\n",
       "      <td>Sandra Bullock | Jon Hamm | Michael Keaton | A...</td>\n",
       "      <td>Christopher Meledandri | Kyle Balda | Ken Daur...</td>\n",
       "      <td>74000000.0</td>\n",
       "      <td>Family | Animation | Adventure | Comedy</td>\n",
       "      <td>assistant | aftercreditsstinger | duringcredit...</td>\n",
       "      <td>en</td>\n",
       "      <td>Minions</td>\n",
       "      <td>Minions Stuart, Kevin and Bob are recruited by...</td>\n",
       "      <td>...</td>\n",
       "      <td>1.156731e+09</td>\n",
       "      <td>91</td>\n",
       "      <td>English</td>\n",
       "      <td>Released</td>\n",
       "      <td>Before Gru, they had a history of bad bosses</td>\n",
       "      <td>6.4</td>\n",
       "      <td>4571.0</td>\n",
       "      <td>Kyle Balda</td>\n",
       "      <td>2015</td>\n",
       "      <td>1.082731e+09</td>\n",
       "    </tr>\n",
       "    <tr>\n",
       "      <th>26</th>\n",
       "      <td>271110</td>\n",
       "      <td>Captain America: Civil War</td>\n",
       "      <td>Chris Evans | Robert Downey Jr. | Scarlett Joh...</td>\n",
       "      <td>Ronald R. Reiss | Tom Johnson | Sarah Finn | C...</td>\n",
       "      <td>250000000.0</td>\n",
       "      <td>Adventure | Action | Science Fiction</td>\n",
       "      <td>civil war | war | marvel comic | sequel</td>\n",
       "      <td>en</td>\n",
       "      <td>Captain America: Civil War</td>\n",
       "      <td>Following the events of Age of Ultron, the col...</td>\n",
       "      <td>...</td>\n",
       "      <td>1.153304e+09</td>\n",
       "      <td>147</td>\n",
       "      <td>Română | English | Deutsch | Pусский</td>\n",
       "      <td>Released</td>\n",
       "      <td>Divided We Fall</td>\n",
       "      <td>7.1</td>\n",
       "      <td>7241.0</td>\n",
       "      <td>Anthony Russo</td>\n",
       "      <td>2016</td>\n",
       "      <td>9.033045e+08</td>\n",
       "    </tr>\n",
       "  </tbody>\n",
       "</table>\n",
       "<p>10 rows × 24 columns</p>\n",
       "</div>"
      ],
      "text/plain": [
       "     movie_id                       title  \\\n",
       "0       19995                      Avatar   \n",
       "25        597                     Titanic   \n",
       "16      24428                The Avengers   \n",
       "28     135397              Jurassic World   \n",
       "44     168259                   Furious 7   \n",
       "7       99861     Avengers: Age of Ultron   \n",
       "124    109445                      Frozen   \n",
       "31      68721                  Iron Man 3   \n",
       "546    211672                     Minions   \n",
       "26     271110  Captain America: Civil War   \n",
       "\n",
       "                                                  cast  \\\n",
       "0    Sam Worthington | Zoe Saldana | Sigourney Weav...   \n",
       "25   Kate Winslet | Leonardo DiCaprio | Frances Fis...   \n",
       "16   Robert Downey Jr. | Chris Evans | Mark Ruffalo...   \n",
       "28   Chris Pratt | Bryce Dallas Howard | Irrfan Kha...   \n",
       "44   Vin Diesel | Paul Walker | Dwayne Johnson | Mi...   \n",
       "7    Robert Downey Jr. | Chris Hemsworth | Mark Ruf...   \n",
       "124  Kristen Bell | Idina Menzel | Jonathan Groff |...   \n",
       "31   Robert Downey Jr. | Gwyneth Paltrow | Don Chea...   \n",
       "546  Sandra Bullock | Jon Hamm | Michael Keaton | A...   \n",
       "26   Chris Evans | Robert Downey Jr. | Scarlett Joh...   \n",
       "\n",
       "                                                  crew       budget  \\\n",
       "0    Stephen E. Rivkin | Rick Carter | Christopher ...  237000000.0   \n",
       "25   Mali Finn | James Horner | James Cameron | Jam...  200000000.0   \n",
       "16   Alan Silvestri | Christopher Boyes | Christoph...  220000000.0   \n",
       "28   Steven Spielberg | John Papsidera | Frank Mars...  150000000.0   \n",
       "44   James Wan | Sanja Milkovic Hays | Peter Brown ...  190000000.0   \n",
       "7    Danny Elfman | Christopher Boyes | Christopher...  280000000.0   \n",
       "124  John Lasseter | Christophe Beck | Chris Buck |...  150000000.0   \n",
       "31   Shane Black | Shane Black | John Toll | Louise...  200000000.0   \n",
       "546  Christopher Meledandri | Kyle Balda | Ken Daur...   74000000.0   \n",
       "26   Ronald R. Reiss | Tom Johnson | Sarah Finn | C...  250000000.0   \n",
       "\n",
       "                                              genres  \\\n",
       "0     Action | Adventure | Fantasy | Science Fiction   \n",
       "25                        Drama | Romance | Thriller   \n",
       "16              Science Fiction | Action | Adventure   \n",
       "28   Action | Adventure | Science Fiction | Thriller   \n",
       "44                                            Action   \n",
       "7               Action | Adventure | Science Fiction   \n",
       "124                   Animation | Adventure | Family   \n",
       "31              Action | Adventure | Science Fiction   \n",
       "546          Family | Animation | Adventure | Comedy   \n",
       "26              Adventure | Action | Science Fiction   \n",
       "\n",
       "                                              keywords original_language  \\\n",
       "0    culture clash | future | space war | space colony                en   \n",
       "25                  shipwreck | iceberg | ship | panic                en   \n",
       "16        new york | shield | marvel comic | superhero                en   \n",
       "28    monster | dna | tyrannosaurus rex | velociraptor                en   \n",
       "44               car race | speed | revenge | suspense                en   \n",
       "7    marvel comic | sequel | superhero | based on c...                en   \n",
       "124              queen | musical | princess | betrayal                en   \n",
       "31      terrorist | war on terror | tennessee | malibu                en   \n",
       "546  assistant | aftercreditsstinger | duringcredit...                en   \n",
       "26             civil war | war | marvel comic | sequel                en   \n",
       "\n",
       "                 original_title  \\\n",
       "0                        Avatar   \n",
       "25                      Titanic   \n",
       "16                 The Avengers   \n",
       "28               Jurassic World   \n",
       "44                    Furious 7   \n",
       "7       Avengers: Age of Ultron   \n",
       "124                      Frozen   \n",
       "31                   Iron Man 3   \n",
       "546                     Minions   \n",
       "26   Captain America: Civil War   \n",
       "\n",
       "                                              overview  ...       revenue  \\\n",
       "0    In the 22nd century, a paraplegic Marine is di...  ...  2.787965e+09   \n",
       "25   84 years later, a 101-year-old woman named Ros...  ...  1.845034e+09   \n",
       "16   When an unexpected enemy emerges and threatens...  ...  1.519558e+09   \n",
       "28   Twenty-two years after the events of Jurassic ...  ...  1.513529e+09   \n",
       "44   Deckard Shaw seeks revenge against Dominic Tor...  ...  1.506249e+09   \n",
       "7    When Tony Stark tries to jumpstart a dormant p...  ...  1.405404e+09   \n",
       "124  Young princess Anna of Arendelle dreams about ...  ...  1.274219e+09   \n",
       "31   When Tony Stark's world is torn apart by a for...  ...  1.215440e+09   \n",
       "546  Minions Stuart, Kevin and Bob are recruited by...  ...  1.156731e+09   \n",
       "26   Following the events of Age of Ultron, the col...  ...  1.153304e+09   \n",
       "\n",
       "    runtime                        spoken_languages    status  \\\n",
       "0       162                       English | Español  Released   \n",
       "25      194  English | Français | Deutsch | svenska  Released   \n",
       "16      143                                 English  Released   \n",
       "28      124                                 English  Released   \n",
       "44      137                                 English  Released   \n",
       "7       141                                 English  Released   \n",
       "124     102                                 English  Released   \n",
       "31      130                                 English  Released   \n",
       "546      91                                 English  Released   \n",
       "26      147    Română | English | Deutsch | Pусский  Released   \n",
       "\n",
       "                                               tagline  vote_average  \\\n",
       "0                          Enter the World of Pandora.           7.2   \n",
       "25           Nothing on Earth could come between them.           7.5   \n",
       "16                             Some assembly required.           7.4   \n",
       "28                                   The park is open.           6.5   \n",
       "44                                 Vengeance Hits Home           7.3   \n",
       "7                                  A New Age Has Come.           7.3   \n",
       "124  Only the act of true love will thaw a frozen h...           7.3   \n",
       "31                 Unleash the power behind the armor.           6.8   \n",
       "546       Before Gru, they had a history of bad bosses           6.4   \n",
       "26                                     Divided We Fall           7.1   \n",
       "\n",
       "    vote_count         director  year        profit  \n",
       "0      11800.0    James Cameron  2009  2.550965e+09  \n",
       "25      7562.0    James Cameron  1997  1.645034e+09  \n",
       "16     11776.0      Joss Whedon  2012  1.299558e+09  \n",
       "28      8662.0  Colin Trevorrow  2015  1.363529e+09  \n",
       "44      4176.0        James Wan  2015  1.316249e+09  \n",
       "7       6767.0      Joss Whedon  2015  1.125404e+09  \n",
       "124     5295.0       Chris Buck  2013  1.124219e+09  \n",
       "31      8806.0      Shane Black  2013  1.015440e+09  \n",
       "546     4571.0       Kyle Balda  2015  1.082731e+09  \n",
       "26      7241.0    Anthony Russo  2016  9.033045e+08  \n",
       "\n",
       "[10 rows x 24 columns]"
      ]
     },
     "execution_count": 48,
     "metadata": {},
     "output_type": "execute_result"
    }
   ],
   "source": [
    "# getting the Top 10 highest revenue movies and their properties\n",
    "top_10 = movies_clean['revenue'].nlargest(10).index\n",
    "movies_clean.loc[top_10]"
   ]
  },
  {
   "cell_type": "markdown",
   "metadata": {},
   "source": [
    "### Q3B: What kinds of properties are associated with the most popular movies?"
   ]
  },
  {
   "cell_type": "markdown",
   "metadata": {},
   "source": [
    "_**getting the Top 10 highest revenue movies and their properties**_"
   ]
  },
  {
   "cell_type": "code",
   "execution_count": 49,
   "metadata": {},
   "outputs": [
    {
     "data": {
      "text/html": [
       "<div>\n",
       "<style scoped>\n",
       "    .dataframe tbody tr th:only-of-type {\n",
       "        vertical-align: middle;\n",
       "    }\n",
       "\n",
       "    .dataframe tbody tr th {\n",
       "        vertical-align: top;\n",
       "    }\n",
       "\n",
       "    .dataframe thead th {\n",
       "        text-align: right;\n",
       "    }\n",
       "</style>\n",
       "<table border=\"1\" class=\"dataframe\">\n",
       "  <thead>\n",
       "    <tr style=\"text-align: right;\">\n",
       "      <th></th>\n",
       "      <th>movie_id</th>\n",
       "      <th>title</th>\n",
       "      <th>cast</th>\n",
       "      <th>crew</th>\n",
       "      <th>budget</th>\n",
       "      <th>genres</th>\n",
       "      <th>keywords</th>\n",
       "      <th>original_language</th>\n",
       "      <th>original_title</th>\n",
       "      <th>overview</th>\n",
       "      <th>...</th>\n",
       "      <th>revenue</th>\n",
       "      <th>runtime</th>\n",
       "      <th>spoken_languages</th>\n",
       "      <th>status</th>\n",
       "      <th>tagline</th>\n",
       "      <th>vote_average</th>\n",
       "      <th>vote_count</th>\n",
       "      <th>director</th>\n",
       "      <th>year</th>\n",
       "      <th>profit</th>\n",
       "    </tr>\n",
       "  </thead>\n",
       "  <tbody>\n",
       "    <tr>\n",
       "      <th>546</th>\n",
       "      <td>211672</td>\n",
       "      <td>Minions</td>\n",
       "      <td>Sandra Bullock | Jon Hamm | Michael Keaton | A...</td>\n",
       "      <td>Christopher Meledandri | Kyle Balda | Ken Daur...</td>\n",
       "      <td>74000000.0</td>\n",
       "      <td>Family | Animation | Adventure | Comedy</td>\n",
       "      <td>assistant | aftercreditsstinger | duringcredit...</td>\n",
       "      <td>en</td>\n",
       "      <td>Minions</td>\n",
       "      <td>Minions Stuart, Kevin and Bob are recruited by...</td>\n",
       "      <td>...</td>\n",
       "      <td>1.156731e+09</td>\n",
       "      <td>91</td>\n",
       "      <td>English</td>\n",
       "      <td>Released</td>\n",
       "      <td>Before Gru, they had a history of bad bosses</td>\n",
       "      <td>6.4</td>\n",
       "      <td>4571.0</td>\n",
       "      <td>Kyle Balda</td>\n",
       "      <td>2015</td>\n",
       "      <td>1.082731e+09</td>\n",
       "    </tr>\n",
       "    <tr>\n",
       "      <th>95</th>\n",
       "      <td>157336</td>\n",
       "      <td>Interstellar</td>\n",
       "      <td>Matthew McConaughey | Jessica Chastain | Anne ...</td>\n",
       "      <td>Hans Zimmer | Christopher Nolan | Christopher ...</td>\n",
       "      <td>165000000.0</td>\n",
       "      <td>Adventure | Drama | Science Fiction</td>\n",
       "      <td>saving the world | artificial intelligence | f...</td>\n",
       "      <td>en</td>\n",
       "      <td>Interstellar</td>\n",
       "      <td>Interstellar chronicles the adventures of a gr...</td>\n",
       "      <td>...</td>\n",
       "      <td>6.751200e+08</td>\n",
       "      <td>169</td>\n",
       "      <td>English</td>\n",
       "      <td>Released</td>\n",
       "      <td>Mankind was born on Earth. It was never meant ...</td>\n",
       "      <td>8.1</td>\n",
       "      <td>10867.0</td>\n",
       "      <td>Christopher Nolan</td>\n",
       "      <td>2014</td>\n",
       "      <td>5.101200e+08</td>\n",
       "    </tr>\n",
       "    <tr>\n",
       "      <th>788</th>\n",
       "      <td>293660</td>\n",
       "      <td>Deadpool</td>\n",
       "      <td>Ryan Reynolds | Morena Baccarin | Ed Skrein | ...</td>\n",
       "      <td>Ronna Kress | Sala Baker | Lauren Shuler Donne...</td>\n",
       "      <td>58000000.0</td>\n",
       "      <td>Action | Adventure | Comedy</td>\n",
       "      <td>anti hero | mercenary | marvel comic | superhero</td>\n",
       "      <td>en</td>\n",
       "      <td>Deadpool</td>\n",
       "      <td>Deadpool tells the origin story of former Spec...</td>\n",
       "      <td>...</td>\n",
       "      <td>7.831130e+08</td>\n",
       "      <td>108</td>\n",
       "      <td>English</td>\n",
       "      <td>Released</td>\n",
       "      <td>Witness the beginning of a happy ending</td>\n",
       "      <td>7.4</td>\n",
       "      <td>10995.0</td>\n",
       "      <td>Tim Miller</td>\n",
       "      <td>2016</td>\n",
       "      <td>7.251130e+08</td>\n",
       "    </tr>\n",
       "    <tr>\n",
       "      <th>94</th>\n",
       "      <td>118340</td>\n",
       "      <td>Guardians of the Galaxy</td>\n",
       "      <td>Chris Pratt | Zoe Saldana | Dave Bautista | Vi...</td>\n",
       "      <td>Craig Wood | Christopher Boyes | Christopher B...</td>\n",
       "      <td>170000000.0</td>\n",
       "      <td>Action | Science Fiction | Adventure</td>\n",
       "      <td>marvel comic | spaceship | space | outer space</td>\n",
       "      <td>en</td>\n",
       "      <td>Guardians of the Galaxy</td>\n",
       "      <td>Light years from Earth, 26 years after being a...</td>\n",
       "      <td>...</td>\n",
       "      <td>7.733286e+08</td>\n",
       "      <td>121</td>\n",
       "      <td>English</td>\n",
       "      <td>Released</td>\n",
       "      <td>All heroes start somewhere.</td>\n",
       "      <td>7.9</td>\n",
       "      <td>9742.0</td>\n",
       "      <td>James Gunn</td>\n",
       "      <td>2014</td>\n",
       "      <td>6.033286e+08</td>\n",
       "    </tr>\n",
       "    <tr>\n",
       "      <th>127</th>\n",
       "      <td>76341</td>\n",
       "      <td>Mad Max: Fury Road</td>\n",
       "      <td>Tom Hardy | Charlize Theron | Nicholas Hoult |...</td>\n",
       "      <td>Iain Smith | Ronna Kress | Bruce Berman | John...</td>\n",
       "      <td>150000000.0</td>\n",
       "      <td>Action | Adventure | Science Fiction | Thriller</td>\n",
       "      <td>future | chase | post-apocalyptic | dystopia</td>\n",
       "      <td>en</td>\n",
       "      <td>Mad Max: Fury Road</td>\n",
       "      <td>An apocalyptic story set in the furthest reach...</td>\n",
       "      <td>...</td>\n",
       "      <td>3.788583e+08</td>\n",
       "      <td>120</td>\n",
       "      <td>English</td>\n",
       "      <td>Released</td>\n",
       "      <td>What a Lovely Day.</td>\n",
       "      <td>7.2</td>\n",
       "      <td>9427.0</td>\n",
       "      <td>George Miller</td>\n",
       "      <td>2015</td>\n",
       "      <td>2.288583e+08</td>\n",
       "    </tr>\n",
       "    <tr>\n",
       "      <th>28</th>\n",
       "      <td>135397</td>\n",
       "      <td>Jurassic World</td>\n",
       "      <td>Chris Pratt | Bryce Dallas Howard | Irrfan Kha...</td>\n",
       "      <td>Steven Spielberg | John Papsidera | Frank Mars...</td>\n",
       "      <td>150000000.0</td>\n",
       "      <td>Action | Adventure | Science Fiction | Thriller</td>\n",
       "      <td>monster | dna | tyrannosaurus rex | velociraptor</td>\n",
       "      <td>en</td>\n",
       "      <td>Jurassic World</td>\n",
       "      <td>Twenty-two years after the events of Jurassic ...</td>\n",
       "      <td>...</td>\n",
       "      <td>1.513529e+09</td>\n",
       "      <td>124</td>\n",
       "      <td>English</td>\n",
       "      <td>Released</td>\n",
       "      <td>The park is open.</td>\n",
       "      <td>6.5</td>\n",
       "      <td>8662.0</td>\n",
       "      <td>Colin Trevorrow</td>\n",
       "      <td>2015</td>\n",
       "      <td>1.363529e+09</td>\n",
       "    </tr>\n",
       "    <tr>\n",
       "      <th>199</th>\n",
       "      <td>22</td>\n",
       "      <td>Pirates of the Caribbean: The Curse of the Bla...</td>\n",
       "      <td>Johnny Depp | Geoffrey Rush | Orlando Bloom | ...</td>\n",
       "      <td>Arthur Schmidt | Dariusz Wolski | Klaus Badelt...</td>\n",
       "      <td>140000000.0</td>\n",
       "      <td>Adventure | Fantasy | Action</td>\n",
       "      <td>exotic island | blacksmith | east india tradin...</td>\n",
       "      <td>en</td>\n",
       "      <td>Pirates of the Caribbean: The Curse of the Bla...</td>\n",
       "      <td>Jack Sparrow, a freewheeling 17th-century pira...</td>\n",
       "      <td>...</td>\n",
       "      <td>6.550112e+08</td>\n",
       "      <td>143</td>\n",
       "      <td>English</td>\n",
       "      <td>Released</td>\n",
       "      <td>Prepare to be blown out of the water.</td>\n",
       "      <td>7.5</td>\n",
       "      <td>6985.0</td>\n",
       "      <td>Gore Verbinski</td>\n",
       "      <td>2003</td>\n",
       "      <td>5.150112e+08</td>\n",
       "    </tr>\n",
       "    <tr>\n",
       "      <th>82</th>\n",
       "      <td>119450</td>\n",
       "      <td>Dawn of the Planet of the Apes</td>\n",
       "      <td>Andy Serkis | Jason Clarke | Gary Oldman | Ker...</td>\n",
       "      <td>Kevin Mangan | Debra Zane | Doug Jackson | Wil...</td>\n",
       "      <td>170000000.0</td>\n",
       "      <td>Science Fiction | Action | Drama | Thriller</td>\n",
       "      <td>leader | colony | post-apocalyptic | dystopia</td>\n",
       "      <td>en</td>\n",
       "      <td>Dawn of the Planet of the Apes</td>\n",
       "      <td>A group of scientists in San Francisco struggl...</td>\n",
       "      <td>...</td>\n",
       "      <td>7.106446e+08</td>\n",
       "      <td>130</td>\n",
       "      <td>English</td>\n",
       "      <td>Released</td>\n",
       "      <td>One last chance for peace.</td>\n",
       "      <td>7.3</td>\n",
       "      <td>4410.0</td>\n",
       "      <td>Matt Reeves</td>\n",
       "      <td>2014</td>\n",
       "      <td>5.406446e+08</td>\n",
       "    </tr>\n",
       "    <tr>\n",
       "      <th>200</th>\n",
       "      <td>131631</td>\n",
       "      <td>The Hunger Games: Mockingjay - Part 1</td>\n",
       "      <td>Jennifer Lawrence | Josh Hutcherson | Liam Hem...</td>\n",
       "      <td>Debra Zane | James Newton Howard | Philip Seym...</td>\n",
       "      <td>125000000.0</td>\n",
       "      <td>Science Fiction | Adventure | Thriller</td>\n",
       "      <td>resistance | post-apocalyptic | dystopia | war</td>\n",
       "      <td>en</td>\n",
       "      <td>The Hunger Games: Mockingjay - Part 1</td>\n",
       "      <td>Katniss Everdeen reluctantly becomes the symbo...</td>\n",
       "      <td>...</td>\n",
       "      <td>7.521002e+08</td>\n",
       "      <td>123</td>\n",
       "      <td>English</td>\n",
       "      <td>Released</td>\n",
       "      <td>Fire burns brighter in the darkness</td>\n",
       "      <td>6.6</td>\n",
       "      <td>5584.0</td>\n",
       "      <td>Francis Lawrence</td>\n",
       "      <td>2014</td>\n",
       "      <td>6.271002e+08</td>\n",
       "    </tr>\n",
       "    <tr>\n",
       "      <th>88</th>\n",
       "      <td>177572</td>\n",
       "      <td>Big Hero 6</td>\n",
       "      <td>Scott Adsit | Ryan Potter | Daniel Henney | T....</td>\n",
       "      <td>John Lasseter | Robert Richardson | Mark Henle...</td>\n",
       "      <td>165000000.0</td>\n",
       "      <td>Adventure | Family | Animation | Action</td>\n",
       "      <td>brother brother relationship | hero | talent |...</td>\n",
       "      <td>en</td>\n",
       "      <td>Big Hero 6</td>\n",
       "      <td>The special bond that develops between plus-si...</td>\n",
       "      <td>...</td>\n",
       "      <td>6.521054e+08</td>\n",
       "      <td>102</td>\n",
       "      <td>English</td>\n",
       "      <td>Released</td>\n",
       "      <td>From the creators of Wreck-it Ralph and Frozen</td>\n",
       "      <td>7.8</td>\n",
       "      <td>6135.0</td>\n",
       "      <td>Chris Williams</td>\n",
       "      <td>2014</td>\n",
       "      <td>4.871054e+08</td>\n",
       "    </tr>\n",
       "  </tbody>\n",
       "</table>\n",
       "<p>10 rows × 24 columns</p>\n",
       "</div>"
      ],
      "text/plain": [
       "     movie_id                                              title  \\\n",
       "546    211672                                            Minions   \n",
       "95     157336                                       Interstellar   \n",
       "788    293660                                           Deadpool   \n",
       "94     118340                            Guardians of the Galaxy   \n",
       "127     76341                                 Mad Max: Fury Road   \n",
       "28     135397                                     Jurassic World   \n",
       "199        22  Pirates of the Caribbean: The Curse of the Bla...   \n",
       "82     119450                     Dawn of the Planet of the Apes   \n",
       "200    131631              The Hunger Games: Mockingjay - Part 1   \n",
       "88     177572                                         Big Hero 6   \n",
       "\n",
       "                                                  cast  \\\n",
       "546  Sandra Bullock | Jon Hamm | Michael Keaton | A...   \n",
       "95   Matthew McConaughey | Jessica Chastain | Anne ...   \n",
       "788  Ryan Reynolds | Morena Baccarin | Ed Skrein | ...   \n",
       "94   Chris Pratt | Zoe Saldana | Dave Bautista | Vi...   \n",
       "127  Tom Hardy | Charlize Theron | Nicholas Hoult |...   \n",
       "28   Chris Pratt | Bryce Dallas Howard | Irrfan Kha...   \n",
       "199  Johnny Depp | Geoffrey Rush | Orlando Bloom | ...   \n",
       "82   Andy Serkis | Jason Clarke | Gary Oldman | Ker...   \n",
       "200  Jennifer Lawrence | Josh Hutcherson | Liam Hem...   \n",
       "88   Scott Adsit | Ryan Potter | Daniel Henney | T....   \n",
       "\n",
       "                                                  crew       budget  \\\n",
       "546  Christopher Meledandri | Kyle Balda | Ken Daur...   74000000.0   \n",
       "95   Hans Zimmer | Christopher Nolan | Christopher ...  165000000.0   \n",
       "788  Ronna Kress | Sala Baker | Lauren Shuler Donne...   58000000.0   \n",
       "94   Craig Wood | Christopher Boyes | Christopher B...  170000000.0   \n",
       "127  Iain Smith | Ronna Kress | Bruce Berman | John...  150000000.0   \n",
       "28   Steven Spielberg | John Papsidera | Frank Mars...  150000000.0   \n",
       "199  Arthur Schmidt | Dariusz Wolski | Klaus Badelt...  140000000.0   \n",
       "82   Kevin Mangan | Debra Zane | Doug Jackson | Wil...  170000000.0   \n",
       "200  Debra Zane | James Newton Howard | Philip Seym...  125000000.0   \n",
       "88   John Lasseter | Robert Richardson | Mark Henle...  165000000.0   \n",
       "\n",
       "                                              genres  \\\n",
       "546          Family | Animation | Adventure | Comedy   \n",
       "95               Adventure | Drama | Science Fiction   \n",
       "788                      Action | Adventure | Comedy   \n",
       "94              Action | Science Fiction | Adventure   \n",
       "127  Action | Adventure | Science Fiction | Thriller   \n",
       "28   Action | Adventure | Science Fiction | Thriller   \n",
       "199                     Adventure | Fantasy | Action   \n",
       "82       Science Fiction | Action | Drama | Thriller   \n",
       "200           Science Fiction | Adventure | Thriller   \n",
       "88           Adventure | Family | Animation | Action   \n",
       "\n",
       "                                              keywords original_language  \\\n",
       "546  assistant | aftercreditsstinger | duringcredit...                en   \n",
       "95   saving the world | artificial intelligence | f...                en   \n",
       "788   anti hero | mercenary | marvel comic | superhero                en   \n",
       "94      marvel comic | spaceship | space | outer space                en   \n",
       "127       future | chase | post-apocalyptic | dystopia                en   \n",
       "28    monster | dna | tyrannosaurus rex | velociraptor                en   \n",
       "199  exotic island | blacksmith | east india tradin...                en   \n",
       "82       leader | colony | post-apocalyptic | dystopia                en   \n",
       "200     resistance | post-apocalyptic | dystopia | war                en   \n",
       "88   brother brother relationship | hero | talent |...                en   \n",
       "\n",
       "                                        original_title  \\\n",
       "546                                            Minions   \n",
       "95                                        Interstellar   \n",
       "788                                           Deadpool   \n",
       "94                             Guardians of the Galaxy   \n",
       "127                                 Mad Max: Fury Road   \n",
       "28                                      Jurassic World   \n",
       "199  Pirates of the Caribbean: The Curse of the Bla...   \n",
       "82                      Dawn of the Planet of the Apes   \n",
       "200              The Hunger Games: Mockingjay - Part 1   \n",
       "88                                          Big Hero 6   \n",
       "\n",
       "                                              overview  ...       revenue  \\\n",
       "546  Minions Stuart, Kevin and Bob are recruited by...  ...  1.156731e+09   \n",
       "95   Interstellar chronicles the adventures of a gr...  ...  6.751200e+08   \n",
       "788  Deadpool tells the origin story of former Spec...  ...  7.831130e+08   \n",
       "94   Light years from Earth, 26 years after being a...  ...  7.733286e+08   \n",
       "127  An apocalyptic story set in the furthest reach...  ...  3.788583e+08   \n",
       "28   Twenty-two years after the events of Jurassic ...  ...  1.513529e+09   \n",
       "199  Jack Sparrow, a freewheeling 17th-century pira...  ...  6.550112e+08   \n",
       "82   A group of scientists in San Francisco struggl...  ...  7.106446e+08   \n",
       "200  Katniss Everdeen reluctantly becomes the symbo...  ...  7.521002e+08   \n",
       "88   The special bond that develops between plus-si...  ...  6.521054e+08   \n",
       "\n",
       "    runtime spoken_languages    status  \\\n",
       "546      91          English  Released   \n",
       "95      169          English  Released   \n",
       "788     108          English  Released   \n",
       "94      121          English  Released   \n",
       "127     120          English  Released   \n",
       "28      124          English  Released   \n",
       "199     143          English  Released   \n",
       "82      130          English  Released   \n",
       "200     123          English  Released   \n",
       "88      102          English  Released   \n",
       "\n",
       "                                               tagline  vote_average  \\\n",
       "546       Before Gru, they had a history of bad bosses           6.4   \n",
       "95   Mankind was born on Earth. It was never meant ...           8.1   \n",
       "788            Witness the beginning of a happy ending           7.4   \n",
       "94                         All heroes start somewhere.           7.9   \n",
       "127                                 What a Lovely Day.           7.2   \n",
       "28                                   The park is open.           6.5   \n",
       "199              Prepare to be blown out of the water.           7.5   \n",
       "82                          One last chance for peace.           7.3   \n",
       "200                Fire burns brighter in the darkness           6.6   \n",
       "88      From the creators of Wreck-it Ralph and Frozen           7.8   \n",
       "\n",
       "    vote_count           director  year        profit  \n",
       "546     4571.0         Kyle Balda  2015  1.082731e+09  \n",
       "95     10867.0  Christopher Nolan  2014  5.101200e+08  \n",
       "788    10995.0         Tim Miller  2016  7.251130e+08  \n",
       "94      9742.0         James Gunn  2014  6.033286e+08  \n",
       "127     9427.0      George Miller  2015  2.288583e+08  \n",
       "28      8662.0    Colin Trevorrow  2015  1.363529e+09  \n",
       "199     6985.0     Gore Verbinski  2003  5.150112e+08  \n",
       "82      4410.0        Matt Reeves  2014  5.406446e+08  \n",
       "200     5584.0   Francis Lawrence  2014  6.271002e+08  \n",
       "88      6135.0     Chris Williams  2014  4.871054e+08  \n",
       "\n",
       "[10 rows x 24 columns]"
      ]
     },
     "execution_count": 49,
     "metadata": {},
     "output_type": "execute_result"
    }
   ],
   "source": [
    "# getting the Top 10 highest revenue movies and their properties\n",
    "top_10 = movies_clean['popularity'].nlargest(10).index\n",
    "movies_clean.loc[top_10]"
   ]
  },
  {
   "cell_type": "markdown",
   "metadata": {},
   "source": [
    "### Q3C: What kinds of properties are associated with the highest rated movies?"
   ]
  },
  {
   "cell_type": "markdown",
   "metadata": {},
   "source": [
    "_**getting the Top 10 highest rated movies and their properties**_"
   ]
  },
  {
   "cell_type": "code",
   "execution_count": 50,
   "metadata": {},
   "outputs": [
    {
     "data": {
      "text/html": [
       "<div>\n",
       "<style scoped>\n",
       "    .dataframe tbody tr th:only-of-type {\n",
       "        vertical-align: middle;\n",
       "    }\n",
       "\n",
       "    .dataframe tbody tr th {\n",
       "        vertical-align: top;\n",
       "    }\n",
       "\n",
       "    .dataframe thead th {\n",
       "        text-align: right;\n",
       "    }\n",
       "</style>\n",
       "<table border=\"1\" class=\"dataframe\">\n",
       "  <thead>\n",
       "    <tr style=\"text-align: right;\">\n",
       "      <th></th>\n",
       "      <th>movie_id</th>\n",
       "      <th>title</th>\n",
       "      <th>cast</th>\n",
       "      <th>crew</th>\n",
       "      <th>budget</th>\n",
       "      <th>genres</th>\n",
       "      <th>keywords</th>\n",
       "      <th>original_language</th>\n",
       "      <th>original_title</th>\n",
       "      <th>overview</th>\n",
       "      <th>...</th>\n",
       "      <th>revenue</th>\n",
       "      <th>runtime</th>\n",
       "      <th>spoken_languages</th>\n",
       "      <th>status</th>\n",
       "      <th>tagline</th>\n",
       "      <th>vote_average</th>\n",
       "      <th>vote_count</th>\n",
       "      <th>director</th>\n",
       "      <th>year</th>\n",
       "      <th>profit</th>\n",
       "    </tr>\n",
       "  </thead>\n",
       "  <tbody>\n",
       "    <tr>\n",
       "      <th>4045</th>\n",
       "      <td>78373</td>\n",
       "      <td>Dancer, Texas Pop. 81</td>\n",
       "      <td>Breckin Meyer | Peter Facinelli | Eddie Mills ...</td>\n",
       "      <td>Tim McCanlies | Tim McCanlies</td>\n",
       "      <td>2.904504e+07</td>\n",
       "      <td>Comedy | Drama | Family</td>\n",
       "      <td>small town | texas</td>\n",
       "      <td>en</td>\n",
       "      <td>Dancer, Texas Pop. 81</td>\n",
       "      <td>Four guys, best friends, have grown up togethe...</td>\n",
       "      <td>...</td>\n",
       "      <td>5.655920e+05</td>\n",
       "      <td>97</td>\n",
       "      <td>English</td>\n",
       "      <td>Released</td>\n",
       "      <td>in the middle of nowhere they had everything</td>\n",
       "      <td>10.0</td>\n",
       "      <td>1.0</td>\n",
       "      <td>Tim McCanlies</td>\n",
       "      <td>1998</td>\n",
       "      <td>-2.847945e+07</td>\n",
       "    </tr>\n",
       "    <tr>\n",
       "      <th>4247</th>\n",
       "      <td>361505</td>\n",
       "      <td>Me You and Five Bucks</td>\n",
       "      <td></td>\n",
       "      <td></td>\n",
       "      <td>1.000000e+00</td>\n",
       "      <td>Romance | Comedy | Drama</td>\n",
       "      <td></td>\n",
       "      <td>en</td>\n",
       "      <td>Me You and Five Bucks</td>\n",
       "      <td>A womanizing yet lovable loser, Charlie, a wai...</td>\n",
       "      <td>...</td>\n",
       "      <td>8.226064e+07</td>\n",
       "      <td>90</td>\n",
       "      <td></td>\n",
       "      <td>Released</td>\n",
       "      <td>A story about second, second chances</td>\n",
       "      <td>10.0</td>\n",
       "      <td>2.0</td>\n",
       "      <td>NaN</td>\n",
       "      <td>2015</td>\n",
       "      <td>8.226064e+07</td>\n",
       "    </tr>\n",
       "    <tr>\n",
       "      <th>2386</th>\n",
       "      <td>69848</td>\n",
       "      <td>One Man's Hero</td>\n",
       "      <td>Tom Berenger | Joaquim de Almeida | Daniela Ro...</td>\n",
       "      <td>Mary Jo Slater | Jaime Comas Gil | Héctor Rome...</td>\n",
       "      <td>2.904504e+07</td>\n",
       "      <td>Western | Action | Drama | History</td>\n",
       "      <td>war | army | battlefield | chivalry</td>\n",
       "      <td>en</td>\n",
       "      <td>One Man's Hero</td>\n",
       "      <td>One Man's Hero tells the little-known story of...</td>\n",
       "      <td>...</td>\n",
       "      <td>8.226064e+07</td>\n",
       "      <td>121</td>\n",
       "      <td>English</td>\n",
       "      <td>Released</td>\n",
       "      <td>One man's hero is another man's traitor.</td>\n",
       "      <td>9.3</td>\n",
       "      <td>2.0</td>\n",
       "      <td>Lance Hool</td>\n",
       "      <td>1999</td>\n",
       "      <td>5.321560e+07</td>\n",
       "    </tr>\n",
       "    <tr>\n",
       "      <th>1881</th>\n",
       "      <td>278</td>\n",
       "      <td>The Shawshank Redemption</td>\n",
       "      <td>Tim Robbins | Morgan Freeman | Bob Gunton | Cl...</td>\n",
       "      <td>Thomas Newman | Roger Deakins | Philip Ivey | ...</td>\n",
       "      <td>2.500000e+07</td>\n",
       "      <td>Drama | Crime</td>\n",
       "      <td>prison | corruption | police brutality | priso...</td>\n",
       "      <td>en</td>\n",
       "      <td>The Shawshank Redemption</td>\n",
       "      <td>Framed in the 1940s for the double murder of h...</td>\n",
       "      <td>...</td>\n",
       "      <td>2.834147e+07</td>\n",
       "      <td>142</td>\n",
       "      <td>English</td>\n",
       "      <td>Released</td>\n",
       "      <td>Fear can hold you prisoner. Hope can set you f...</td>\n",
       "      <td>8.5</td>\n",
       "      <td>8205.0</td>\n",
       "      <td>Frank Darabont</td>\n",
       "      <td>1994</td>\n",
       "      <td>3.341469e+06</td>\n",
       "    </tr>\n",
       "    <tr>\n",
       "      <th>2796</th>\n",
       "      <td>43867</td>\n",
       "      <td>The Prisoner of Zenda</td>\n",
       "      <td>Ronald Colman | Madeleine Carroll | Raymond Ma...</td>\n",
       "      <td>John L. Balderston | Lyle R. Wheeler | Alfred ...</td>\n",
       "      <td>2.904504e+07</td>\n",
       "      <td>Adventure | Drama | Romance</td>\n",
       "      <td>kidnapping | coronation | villain | kingdom</td>\n",
       "      <td>en</td>\n",
       "      <td>The Prisoner of Zenda</td>\n",
       "      <td>An Englishman on a Ruritarian holiday must imp...</td>\n",
       "      <td>...</td>\n",
       "      <td>8.226064e+07</td>\n",
       "      <td>101</td>\n",
       "      <td>Español | English</td>\n",
       "      <td>Released</td>\n",
       "      <td>The most thrilling swordfight ever filmed...</td>\n",
       "      <td>8.4</td>\n",
       "      <td>11.0</td>\n",
       "      <td>John Cromwell</td>\n",
       "      <td>1937</td>\n",
       "      <td>5.321560e+07</td>\n",
       "    </tr>\n",
       "    <tr>\n",
       "      <th>3337</th>\n",
       "      <td>238</td>\n",
       "      <td>The Godfather</td>\n",
       "      <td>Marlon Brando | Al Pacino | James Caan | Richa...</td>\n",
       "      <td>Francis Ford Coppola | Francis Ford Coppola | ...</td>\n",
       "      <td>6.000000e+06</td>\n",
       "      <td>Drama | Crime</td>\n",
       "      <td>italy | love at first sight | loss of father |...</td>\n",
       "      <td>en</td>\n",
       "      <td>The Godfather</td>\n",
       "      <td>Spanning the years 1945 to 1955, a chronicle o...</td>\n",
       "      <td>...</td>\n",
       "      <td>2.450664e+08</td>\n",
       "      <td>175</td>\n",
       "      <td>English | Italiano | Latin</td>\n",
       "      <td>Released</td>\n",
       "      <td>An offer you can't refuse.</td>\n",
       "      <td>8.4</td>\n",
       "      <td>5893.0</td>\n",
       "      <td>Francis Ford Coppola</td>\n",
       "      <td>1972</td>\n",
       "      <td>2.390664e+08</td>\n",
       "    </tr>\n",
       "    <tr>\n",
       "      <th>662</th>\n",
       "      <td>550</td>\n",
       "      <td>Fight Club</td>\n",
       "      <td>Edward Norton | Brad Pitt | Meat Loaf | Jared ...</td>\n",
       "      <td>Arnon Milchan | Michael Kaplan | Art Linson | ...</td>\n",
       "      <td>6.300000e+07</td>\n",
       "      <td>Drama</td>\n",
       "      <td>support group | dual identity | nihilism | rag...</td>\n",
       "      <td>en</td>\n",
       "      <td>Fight Club</td>\n",
       "      <td>A ticking-time-bomb insomniac and a slippery s...</td>\n",
       "      <td>...</td>\n",
       "      <td>1.008538e+08</td>\n",
       "      <td>139</td>\n",
       "      <td>English</td>\n",
       "      <td>Released</td>\n",
       "      <td>Mischief. Mayhem. Soap.</td>\n",
       "      <td>8.3</td>\n",
       "      <td>9413.0</td>\n",
       "      <td>David Fincher</td>\n",
       "      <td>1999</td>\n",
       "      <td>3.785375e+07</td>\n",
       "    </tr>\n",
       "    <tr>\n",
       "      <th>1818</th>\n",
       "      <td>424</td>\n",
       "      <td>Schindler's List</td>\n",
       "      <td>Liam Neeson | Ben Kingsley | Ralph Fiennes | C...</td>\n",
       "      <td>John Williams | Steven Spielberg | Steven Spie...</td>\n",
       "      <td>2.200000e+07</td>\n",
       "      <td>Drama | History | War</td>\n",
       "      <td>factory | concentration camp | hero | holocaust</td>\n",
       "      <td>en</td>\n",
       "      <td>Schindler's List</td>\n",
       "      <td>The true story of how businessman Oskar Schind...</td>\n",
       "      <td>...</td>\n",
       "      <td>3.213656e+08</td>\n",
       "      <td>195</td>\n",
       "      <td>Deutsch | Polski | עִבְרִית | English</td>\n",
       "      <td>Released</td>\n",
       "      <td>Whoever saves one life, saves the world entire.</td>\n",
       "      <td>8.3</td>\n",
       "      <td>4329.0</td>\n",
       "      <td>Steven Spielberg</td>\n",
       "      <td>1993</td>\n",
       "      <td>2.993656e+08</td>\n",
       "    </tr>\n",
       "    <tr>\n",
       "      <th>2294</th>\n",
       "      <td>129</td>\n",
       "      <td>Spirited Away</td>\n",
       "      <td>Rumi Hiiragi | Miyu Irino | Mari Natsuki | Tak...</td>\n",
       "      <td>John Lasseter | Hayao Miyazaki | Hayao Miyazak...</td>\n",
       "      <td>1.500000e+07</td>\n",
       "      <td>Fantasy | Adventure | Animation | Family</td>\n",
       "      <td>witch | parents kids relationship | magic | tw...</td>\n",
       "      <td>ja</td>\n",
       "      <td>千と千尋の神隠し</td>\n",
       "      <td>A ten year old girl who wanders away from her ...</td>\n",
       "      <td>...</td>\n",
       "      <td>2.749251e+08</td>\n",
       "      <td>125</td>\n",
       "      <td>日本語</td>\n",
       "      <td>Released</td>\n",
       "      <td>The tunnel led Chihiro to a mysterious town...</td>\n",
       "      <td>8.3</td>\n",
       "      <td>3840.0</td>\n",
       "      <td>Hayao Miyazaki</td>\n",
       "      <td>2001</td>\n",
       "      <td>2.599251e+08</td>\n",
       "    </tr>\n",
       "    <tr>\n",
       "      <th>2731</th>\n",
       "      <td>240</td>\n",
       "      <td>The Godfather: Part II</td>\n",
       "      <td>Al Pacino | Robert Duvall | Diane Keaton | Rob...</td>\n",
       "      <td>Francis Ford Coppola | Francis Ford Coppola | ...</td>\n",
       "      <td>1.300000e+07</td>\n",
       "      <td>Drama | Crime</td>\n",
       "      <td>italo-american | cuba | vororte | melancholy</td>\n",
       "      <td>en</td>\n",
       "      <td>The Godfather: Part II</td>\n",
       "      <td>In the continuing saga of the Corleone crime f...</td>\n",
       "      <td>...</td>\n",
       "      <td>4.754284e+07</td>\n",
       "      <td>200</td>\n",
       "      <td>English | Italiano | Latin | Español</td>\n",
       "      <td>Released</td>\n",
       "      <td>I don't feel I have to wipe everybody out, Tom...</td>\n",
       "      <td>8.3</td>\n",
       "      <td>3338.0</td>\n",
       "      <td>Francis Ford Coppola</td>\n",
       "      <td>1974</td>\n",
       "      <td>3.454284e+07</td>\n",
       "    </tr>\n",
       "  </tbody>\n",
       "</table>\n",
       "<p>10 rows × 24 columns</p>\n",
       "</div>"
      ],
      "text/plain": [
       "      movie_id                     title  \\\n",
       "4045     78373     Dancer, Texas Pop. 81   \n",
       "4247    361505     Me You and Five Bucks   \n",
       "2386     69848            One Man's Hero   \n",
       "1881       278  The Shawshank Redemption   \n",
       "2796     43867     The Prisoner of Zenda   \n",
       "3337       238             The Godfather   \n",
       "662        550                Fight Club   \n",
       "1818       424          Schindler's List   \n",
       "2294       129             Spirited Away   \n",
       "2731       240    The Godfather: Part II   \n",
       "\n",
       "                                                   cast  \\\n",
       "4045  Breckin Meyer | Peter Facinelli | Eddie Mills ...   \n",
       "4247                                                      \n",
       "2386  Tom Berenger | Joaquim de Almeida | Daniela Ro...   \n",
       "1881  Tim Robbins | Morgan Freeman | Bob Gunton | Cl...   \n",
       "2796  Ronald Colman | Madeleine Carroll | Raymond Ma...   \n",
       "3337  Marlon Brando | Al Pacino | James Caan | Richa...   \n",
       "662   Edward Norton | Brad Pitt | Meat Loaf | Jared ...   \n",
       "1818  Liam Neeson | Ben Kingsley | Ralph Fiennes | C...   \n",
       "2294  Rumi Hiiragi | Miyu Irino | Mari Natsuki | Tak...   \n",
       "2731  Al Pacino | Robert Duvall | Diane Keaton | Rob...   \n",
       "\n",
       "                                                   crew        budget  \\\n",
       "4045                      Tim McCanlies | Tim McCanlies  2.904504e+07   \n",
       "4247                                                     1.000000e+00   \n",
       "2386  Mary Jo Slater | Jaime Comas Gil | Héctor Rome...  2.904504e+07   \n",
       "1881  Thomas Newman | Roger Deakins | Philip Ivey | ...  2.500000e+07   \n",
       "2796  John L. Balderston | Lyle R. Wheeler | Alfred ...  2.904504e+07   \n",
       "3337  Francis Ford Coppola | Francis Ford Coppola | ...  6.000000e+06   \n",
       "662   Arnon Milchan | Michael Kaplan | Art Linson | ...  6.300000e+07   \n",
       "1818  John Williams | Steven Spielberg | Steven Spie...  2.200000e+07   \n",
       "2294  John Lasseter | Hayao Miyazaki | Hayao Miyazak...  1.500000e+07   \n",
       "2731  Francis Ford Coppola | Francis Ford Coppola | ...  1.300000e+07   \n",
       "\n",
       "                                        genres  \\\n",
       "4045                   Comedy | Drama | Family   \n",
       "4247                  Romance | Comedy | Drama   \n",
       "2386        Western | Action | Drama | History   \n",
       "1881                             Drama | Crime   \n",
       "2796               Adventure | Drama | Romance   \n",
       "3337                             Drama | Crime   \n",
       "662                                      Drama   \n",
       "1818                     Drama | History | War   \n",
       "2294  Fantasy | Adventure | Animation | Family   \n",
       "2731                             Drama | Crime   \n",
       "\n",
       "                                               keywords original_language  \\\n",
       "4045                                 small town | texas                en   \n",
       "4247                                                                   en   \n",
       "2386                war | army | battlefield | chivalry                en   \n",
       "1881  prison | corruption | police brutality | priso...                en   \n",
       "2796        kidnapping | coronation | villain | kingdom                en   \n",
       "3337  italy | love at first sight | loss of father |...                en   \n",
       "662   support group | dual identity | nihilism | rag...                en   \n",
       "1818    factory | concentration camp | hero | holocaust                en   \n",
       "2294  witch | parents kids relationship | magic | tw...                ja   \n",
       "2731       italo-american | cuba | vororte | melancholy                en   \n",
       "\n",
       "                original_title  \\\n",
       "4045     Dancer, Texas Pop. 81   \n",
       "4247     Me You and Five Bucks   \n",
       "2386            One Man's Hero   \n",
       "1881  The Shawshank Redemption   \n",
       "2796     The Prisoner of Zenda   \n",
       "3337             The Godfather   \n",
       "662                 Fight Club   \n",
       "1818          Schindler's List   \n",
       "2294                  千と千尋の神隠し   \n",
       "2731    The Godfather: Part II   \n",
       "\n",
       "                                               overview  ...       revenue  \\\n",
       "4045  Four guys, best friends, have grown up togethe...  ...  5.655920e+05   \n",
       "4247  A womanizing yet lovable loser, Charlie, a wai...  ...  8.226064e+07   \n",
       "2386  One Man's Hero tells the little-known story of...  ...  8.226064e+07   \n",
       "1881  Framed in the 1940s for the double murder of h...  ...  2.834147e+07   \n",
       "2796  An Englishman on a Ruritarian holiday must imp...  ...  8.226064e+07   \n",
       "3337  Spanning the years 1945 to 1955, a chronicle o...  ...  2.450664e+08   \n",
       "662   A ticking-time-bomb insomniac and a slippery s...  ...  1.008538e+08   \n",
       "1818  The true story of how businessman Oskar Schind...  ...  3.213656e+08   \n",
       "2294  A ten year old girl who wanders away from her ...  ...  2.749251e+08   \n",
       "2731  In the continuing saga of the Corleone crime f...  ...  4.754284e+07   \n",
       "\n",
       "     runtime                       spoken_languages    status  \\\n",
       "4045      97                                English  Released   \n",
       "4247      90                                         Released   \n",
       "2386     121                                English  Released   \n",
       "1881     142                                English  Released   \n",
       "2796     101                      Español | English  Released   \n",
       "3337     175             English | Italiano | Latin  Released   \n",
       "662      139                                English  Released   \n",
       "1818     195  Deutsch | Polski | עִבְרִית | English  Released   \n",
       "2294     125                                    日本語  Released   \n",
       "2731     200   English | Italiano | Latin | Español  Released   \n",
       "\n",
       "                                                tagline  vote_average  \\\n",
       "4045       in the middle of nowhere they had everything          10.0   \n",
       "4247               A story about second, second chances          10.0   \n",
       "2386           One man's hero is another man's traitor.           9.3   \n",
       "1881  Fear can hold you prisoner. Hope can set you f...           8.5   \n",
       "2796       The most thrilling swordfight ever filmed...           8.4   \n",
       "3337                         An offer you can't refuse.           8.4   \n",
       "662                             Mischief. Mayhem. Soap.           8.3   \n",
       "1818    Whoever saves one life, saves the world entire.           8.3   \n",
       "2294     The tunnel led Chihiro to a mysterious town...           8.3   \n",
       "2731  I don't feel I have to wipe everybody out, Tom...           8.3   \n",
       "\n",
       "     vote_count              director  year        profit  \n",
       "4045        1.0         Tim McCanlies  1998 -2.847945e+07  \n",
       "4247        2.0                   NaN  2015  8.226064e+07  \n",
       "2386        2.0            Lance Hool  1999  5.321560e+07  \n",
       "1881     8205.0        Frank Darabont  1994  3.341469e+06  \n",
       "2796       11.0         John Cromwell  1937  5.321560e+07  \n",
       "3337     5893.0  Francis Ford Coppola  1972  2.390664e+08  \n",
       "662      9413.0         David Fincher  1999  3.785375e+07  \n",
       "1818     4329.0      Steven Spielberg  1993  2.993656e+08  \n",
       "2294     3840.0        Hayao Miyazaki  2001  2.599251e+08  \n",
       "2731     3338.0  Francis Ford Coppola  1974  3.454284e+07  \n",
       "\n",
       "[10 rows x 24 columns]"
      ]
     },
     "execution_count": 50,
     "metadata": {},
     "output_type": "execute_result"
    }
   ],
   "source": [
    "# getting the Top 10 highest rated movies and their properties\n",
    "top_10 = movies_clean['vote_average'].nlargest(10).index\n",
    "movies_clean.loc[top_10]"
   ]
  },
  {
   "cell_type": "markdown",
   "metadata": {},
   "source": [
    "<a id='companies'></a>\n",
    "### Q4: Which companies made the overall highest revenue per year?"
   ]
  },
  {
   "cell_type": "markdown",
   "metadata": {},
   "source": [
    "_**getting the companies that get the highest revenue each year and which movie targeted that highest revenue**_"
   ]
  },
  {
   "cell_type": "code",
   "execution_count": 51,
   "metadata": {},
   "outputs": [
    {
     "data": {
      "text/html": [
       "<div>\n",
       "<style scoped>\n",
       "    .dataframe tbody tr th:only-of-type {\n",
       "        vertical-align: middle;\n",
       "    }\n",
       "\n",
       "    .dataframe tbody tr th {\n",
       "        vertical-align: top;\n",
       "    }\n",
       "\n",
       "    .dataframe thead th {\n",
       "        text-align: right;\n",
       "    }\n",
       "</style>\n",
       "<table border=\"1\" class=\"dataframe\">\n",
       "  <thead>\n",
       "    <tr style=\"text-align: right;\">\n",
       "      <th></th>\n",
       "      <th>production_companies</th>\n",
       "      <th>year</th>\n",
       "      <th>revenue</th>\n",
       "      <th>title</th>\n",
       "    </tr>\n",
       "  </thead>\n",
       "  <tbody>\n",
       "    <tr>\n",
       "      <th>4592</th>\n",
       "      <td>Triangle Film Corporation | Wark Producing Corp.</td>\n",
       "      <td>1916</td>\n",
       "      <td>8.394751e+06</td>\n",
       "      <td>Intolerance</td>\n",
       "    </tr>\n",
       "    <tr>\n",
       "      <th>2638</th>\n",
       "      <td>Paramount Pictures | Universum Film (UFA)</td>\n",
       "      <td>1927</td>\n",
       "      <td>6.504220e+05</td>\n",
       "      <td>Metropolis</td>\n",
       "    </tr>\n",
       "    <tr>\n",
       "      <th>4594</th>\n",
       "      <td>Metro-Goldwyn-Mayer (MGM)</td>\n",
       "      <td>1929</td>\n",
       "      <td>4.358000e+06</td>\n",
       "      <td>The Broadway Melody</td>\n",
       "    </tr>\n",
       "    <tr>\n",
       "      <th>3804</th>\n",
       "      <td>The Caddo Company</td>\n",
       "      <td>1930</td>\n",
       "      <td>8.000000e+06</td>\n",
       "      <td>Hell's Angels</td>\n",
       "    </tr>\n",
       "    <tr>\n",
       "      <th>3611</th>\n",
       "      <td>Paramount Pictures</td>\n",
       "      <td>1932</td>\n",
       "      <td>2.500000e+01</td>\n",
       "      <td>A Farewell to Arms</td>\n",
       "    </tr>\n",
       "    <tr>\n",
       "      <th>...</th>\n",
       "      <td>...</td>\n",
       "      <td>...</td>\n",
       "      <td>...</td>\n",
       "      <td>...</td>\n",
       "    </tr>\n",
       "    <tr>\n",
       "      <th>124</th>\n",
       "      <td>Walt Disney Pictures | Walt Disney Animation S...</td>\n",
       "      <td>2013</td>\n",
       "      <td>1.274219e+09</td>\n",
       "      <td>Frozen</td>\n",
       "    </tr>\n",
       "    <tr>\n",
       "      <th>36</th>\n",
       "      <td>Paramount Pictures | Amblin Entertainment | Di...</td>\n",
       "      <td>2014</td>\n",
       "      <td>1.091405e+09</td>\n",
       "      <td>Transformers: Age of Extinction</td>\n",
       "    </tr>\n",
       "    <tr>\n",
       "      <th>28</th>\n",
       "      <td>Universal Studios | Amblin Entertainment | Leg...</td>\n",
       "      <td>2015</td>\n",
       "      <td>1.513529e+09</td>\n",
       "      <td>Jurassic World</td>\n",
       "    </tr>\n",
       "    <tr>\n",
       "      <th>26</th>\n",
       "      <td>Studio Babelsberg | Marvel Studios | Walt Disn...</td>\n",
       "      <td>2016</td>\n",
       "      <td>1.153304e+09</td>\n",
       "      <td>Captain America: Civil War</td>\n",
       "    </tr>\n",
       "    <tr>\n",
       "      <th>4255</th>\n",
       "      <td></td>\n",
       "      <td>2017</td>\n",
       "      <td>8.226064e+07</td>\n",
       "      <td>Growing Up Smith</td>\n",
       "    </tr>\n",
       "  </tbody>\n",
       "</table>\n",
       "<p>88 rows × 4 columns</p>\n",
       "</div>"
      ],
      "text/plain": [
       "                                   production_companies  year       revenue  \\\n",
       "4592   Triangle Film Corporation | Wark Producing Corp.  1916  8.394751e+06   \n",
       "2638          Paramount Pictures | Universum Film (UFA)  1927  6.504220e+05   \n",
       "4594                          Metro-Goldwyn-Mayer (MGM)  1929  4.358000e+06   \n",
       "3804                                  The Caddo Company  1930  8.000000e+06   \n",
       "3611                                 Paramount Pictures  1932  2.500000e+01   \n",
       "...                                                 ...   ...           ...   \n",
       "124   Walt Disney Pictures | Walt Disney Animation S...  2013  1.274219e+09   \n",
       "36    Paramount Pictures | Amblin Entertainment | Di...  2014  1.091405e+09   \n",
       "28    Universal Studios | Amblin Entertainment | Leg...  2015  1.513529e+09   \n",
       "26    Studio Babelsberg | Marvel Studios | Walt Disn...  2016  1.153304e+09   \n",
       "4255                                                     2017  8.226064e+07   \n",
       "\n",
       "                                title  \n",
       "4592                      Intolerance  \n",
       "2638                       Metropolis  \n",
       "4594              The Broadway Melody  \n",
       "3804                    Hell's Angels  \n",
       "3611               A Farewell to Arms  \n",
       "...                               ...  \n",
       "124                            Frozen  \n",
       "36    Transformers: Age of Extinction  \n",
       "28                     Jurassic World  \n",
       "26         Captain America: Civil War  \n",
       "4255                 Growing Up Smith  \n",
       "\n",
       "[88 rows x 4 columns]"
      ]
     },
     "execution_count": 51,
     "metadata": {},
     "output_type": "execute_result"
    }
   ],
   "source": [
    "# getting the companies that get the highest revenue each year and which movie targeted that highest revenue\n",
    "max_revenue_per_year = movies_clean.groupby('year')['revenue'].idxmax()\n",
    "list_max_revenue = list(max_revenue_per_year)\n",
    "max_companies = movies_clean.production_companies.loc[list_max_revenue]\n",
    "max_year = movies_clean.year.loc[list_max_revenue]\n",
    "max_companies_year = pd.merge(max_companies, max_year,left_index=True, right_index=True\n",
    ",how = 'outer')\n",
    "max_companies_year_revenue = movies_clean['revenue'].loc[list_max_revenue]\n",
    "max_companies_year_revenue\n",
    "companies_year_revenue = max_companies_year.join(max_companies_year_revenue)\n",
    "max_movies = movies_clean.title.loc[list_max_revenue]\n",
    "companies_year_revenue_title = companies_year_revenue.join(max_movies)\n",
    "companies_year_revenue_title.dropna()\n",
    "companies_year_revenue_title"
   ]
  },
  {
   "cell_type": "markdown",
   "metadata": {},
   "source": [
    "### Q5: What is the relation between popularity and vote_count?"
   ]
  },
  {
   "cell_type": "markdown",
   "metadata": {},
   "source": [
    "_**visualizing the realtionship between popularity and vote_count by scatter plot to clarify the effect of popularity on the vote count**_"
   ]
  },
  {
   "cell_type": "code",
   "execution_count": 52,
   "metadata": {},
   "outputs": [
    {
     "data": {
      "text/plain": [
       "<Figure size 1440x1440 with 0 Axes>"
      ]
     },
     "execution_count": 52,
     "metadata": {},
     "output_type": "execute_result"
    },
    {
     "data": {
      "image/png": "[encoded data removed]",
      "text/plain": [
       "<Figure size 432x288 with 1 Axes>"
      ]
     },
     "metadata": {},
     "output_type": "display_data"
    },
    {
     "data": {
      "text/plain": [
       "<Figure size 1440x1440 with 0 Axes>"
      ]
     },
     "metadata": {},
     "output_type": "display_data"
    }
   ],
   "source": [
    "# visualizing the realtionship between popularity and vote_count by scatter plot\n",
    "plt.scatter(movies_clean.vote_count, movies_clean.popularity)\n",
    "plt.xlabel('Vote_Count', fontsize=14)\n",
    "plt.ylabel('Popularity', fontsize=14)\n",
    "plt.title('Popularity Vote_Count Relationship', fontsize= 16)\n",
    "plt.figure(figsize=(20, 20))"
   ]
  },
  {
   "cell_type": "markdown",
   "metadata": {},
   "source": [
    "### Q6: What is the relation between the vote_count and vote rate?"
   ]
  },
  {
   "cell_type": "markdown",
   "metadata": {},
   "source": [
    "_**visualizing the realtionship between vote rate and vote_count by scatter plot and clarify their effect on each other**_\n"
   ]
  },
  {
   "cell_type": "code",
   "execution_count": 53,
   "metadata": {
    "scrolled": true
   },
   "outputs": [
    {
     "data": {
      "text/plain": [
       "<Figure size 1440x1440 with 0 Axes>"
      ]
     },
     "execution_count": 53,
     "metadata": {},
     "output_type": "execute_result"
    },
    {
     "data": {
      "image/png": "[encoded data removed]",
      "text/plain": [
       "<Figure size 432x288 with 1 Axes>"
      ]
     },
     "metadata": {},
     "output_type": "display_data"
    },
    {
     "data": {
      "text/plain": [
       "<Figure size 1440x1440 with 0 Axes>"
      ]
     },
     "metadata": {},
     "output_type": "display_data"
    }
   ],
   "source": [
    "# visualizing the realtionship between vote rate and vote_count by scatter plot\n",
    "plt.scatter(movies_clean.vote_count, movies_clean.vote_average)\n",
    "plt.xlabel('Vote_Count', fontsize=14)b\n",
    "plt.ylabel('Vote_Rate', fontsize=14) \n",
    "plt.title('Vote_Count & Rate Relationship', fontsize= 16)\n",
    "plt.figure(figsize=(20, 20))"
   ]
  },
  {
   "cell_type": "markdown",
   "metadata": {},
   "source": [
    "### Q7: Is there a relation between the budget and the runtime ?"
   ]
  },
  {
   "cell_type": "markdown",
   "metadata": {},
   "source": [
    "_**visualizing the realtionship between budget and runtime by scatter plot and if the long runtime increasing the budget or not**_"
   ]
  },
  {
   "cell_type": "code",
   "execution_count": 54,
   "metadata": {},
   "outputs": [
    {
     "data": {
      "text/plain": [
       "<Figure size 1440x1440 with 0 Axes>"
      ]
     },
     "execution_count": 54,
     "metadata": {},
     "output_type": "execute_result"
    },
    {
     "data": {
      "image/png": "[encoded data removed]",
      "text/plain": [
       "<Figure size 432x288 with 1 Axes>"
      ]
     },
     "metadata": {},
     "output_type": "display_data"
    },
    {
     "data": {
      "text/plain": [
       "<Figure size 1440x1440 with 0 Axes>"
      ]
     },
     "metadata": {},
     "output_type": "display_data"
    }
   ],
   "source": [
    "# visualizing the realtionship between budget and runtime by scatter plot\n",
    "plt.scatter(movies_clean.runtime, movies_clean.budget)\n",
    "plt.xlabel('RunTime', fontsize=14)\n",
    "plt.ylabel('Budget', fontsize=14)\n",
    "plt.title('RunTime & Budget Relatioship', fontsize= 16)\n",
    "plt.figure(figsize=(20, 20))"
   ]
  },
  {
   "cell_type": "markdown",
   "metadata": {},
   "source": [
    "### Q8: Is there a relation between the budget and the revenue ?"
   ]
  },
  {
   "cell_type": "markdown",
   "metadata": {},
   "source": [
    "_**visualizing the realtionship between budget and revenue by scatter plot to clarify if there a relation between budget and revenue**_"
   ]
  },
  {
   "cell_type": "code",
   "execution_count": 55,
   "metadata": {},
   "outputs": [
    {
     "data": {
      "text/plain": [
       "<Figure size 1440x1440 with 0 Axes>"
      ]
     },
     "execution_count": 55,
     "metadata": {},
     "output_type": "execute_result"
    },
    {
     "data": {
      "image/png": "[encoded data removed]",
      "text/plain": [
       "<Figure size 432x288 with 1 Axes>"
      ]
     },
     "metadata": {},
     "output_type": "display_data"
    },
    {
     "data": {
      "text/plain": [
       "<Figure size 1440x1440 with 0 Axes>"
      ]
     },
     "metadata": {},
     "output_type": "display_data"
    }
   ],
   "source": [
    "# visualizing the realtionship between budget and revenue by scatter plot\n",
    "plt.scatter(movies_clean.revenue, movies_clean.budget)\n",
    "plt.xlabel('Revenue', fontsize=14)\n",
    "plt.ylabel('Budget', fontsize=14)\n",
    "plt.title('Revnue & Budget Relatioship', fontsize= 16)\n",
    "plt.figure(figsize=(20, 20))"
   ]
  },
  {
   "cell_type": "markdown",
   "metadata": {},
   "source": [
    "### Q9: Most Popular Directors?"
   ]
  },
  {
   "cell_type": "markdown",
   "metadata": {},
   "source": [
    "_**get the Top 10 Directors over the time and their movie number they directed**_"
   ]
  },
  {
   "cell_type": "code",
   "execution_count": 56,
   "metadata": {},
   "outputs": [
    {
     "data": {
      "text/plain": [
       "Steven Spielberg     27\n",
       "Clint Eastwood       18\n",
       "Ridley Scott         15\n",
       "Martin Scorsese      15\n",
       "Renny Harlin         15\n",
       "Robert Rodriguez     15\n",
       "Oliver Stone         14\n",
       "Tim Burton           14\n",
       "Steven Soderbergh    14\n",
       "Barry Levinson       13\n",
       "Name: director, dtype: int64"
      ]
     },
     "execution_count": 56,
     "metadata": {},
     "output_type": "execute_result"
    }
   ],
   "source": [
    "movies_clean.director.value_counts().nlargest(10)"
   ]
  },
  {
   "cell_type": "code",
   "execution_count": null,
   "metadata": {},
   "outputs": [],
   "source": []
  },
  {
   "cell_type": "markdown",
   "metadata": {},
   "source": [
    "### Q10: Average Runtime?"
   ]
  },
  {
   "cell_type": "markdown",
   "metadata": {},
   "source": [
    "_**in this visulaization we are trying to represent the average runtime of the movies and how much movies have the average runtime over time**_"
   ]
  },
  {
   "cell_type": "code",
   "execution_count": 57,
   "metadata": {},
   "outputs": [
    {
     "data": {
      "image/png": "[encoded data removed]",
      "text/plain": [
       "<Figure size 432x288 with 1 Axes>"
      ]
     },
     "metadata": {},
     "output_type": "display_data"
    },
    {
     "data": {
      "text/plain": [
       "<Figure size 1440x1440 with 0 Axes>"
      ]
     },
     "metadata": {},
     "output_type": "display_data"
    }
   ],
   "source": [
    "# visualzing the runtime average by scatter plot\n",
    "# in this visulaization we are trying to represent the average runtime of the movies and how much movies have the average runtime over time\n",
    "plt.scatter(movies_clean.runtime, movies_clean.movie_id)\n",
    "plt.xlabel('RunTime', fontsize=14)\n",
    "plt.ylabel('No of Movies', fontsize=14)\n",
    "f=plt.figure()\n",
    "f.set_figwidth(20)\n",
    "f.set_figheight(20)\n",
    "plt.show()"
   ]
  },
  {
   "cell_type": "code",
   "execution_count": 58,
   "metadata": {},
   "outputs": [],
   "source": [
    "plt.show()"
   ]
  },
  {
   "cell_type": "code",
   "execution_count": 59,
   "metadata": {},
   "outputs": [],
   "source": [
    "movies_clean.to_csv('movies.csv')"
   ]
  },
  {
   "cell_type": "markdown",
   "metadata": {},
   "source": [
    "<a id='conclusions'></a>\n",
    "## Conclusions\n",
    "\n",
    "#### Rate of movie production over years for each movie genre:\n",
    "> Drama Movies: The highest year of Drama is 2006 <br/>\n",
    "> Comedy Movies: The highest year of Comedy is 2012 <br/>\n",
    "> Horror Movies: The highest year of Horror is 2009 <br/>\n",
    "> Thriller Movies: The highest year of Thriller is 2015 <br/>\n",
    "> Action Movies: The highest year of Action is 2015 <br/>\n",
    "> Fantasy Movies: The highest year of Fantasy is 2016 <br/>\n",
    "> Western Movies: The highest year of Western is 1968, the rate is descending <br/>\n",
    "> Science Fiction Movies: The highest year of Science Fiction is 2000 <br/>\n",
    "> Drama Movies: The highest year of Drama is 2006 <br/>\n",
    "#### The highest profitable, rated, vote_count, popular movie genre:\n",
    "> The most Profitable movie genres are First: Comedy, Second: Drama, Third: Action <br/>\n",
    "> The highest rated movie genres are First: Drama, Second: Comedy, Third: Thriller <br/>\n",
    "> The most vote_count movie genres are First: Action, Second: Drama, Third: Adventure <br/>\n",
    "> The most Popular movie genres are First: Drama, Second: Action, Third: Thriller <br/>\n",
    "#### Top 10 Movies?:\n",
    ">>**TOP 10 highest revenue:** <br/>                   \n",
    ">>Avatar<br/>\n",
    ">>Titanic<br/>\n",
    ">>The Avengers<br/>\n",
    ">>Jurassic World<br/>\n",
    ">>Furious 7<br/>\n",
    ">>Avengers: Age of Ultron<br/>\n",
    ">>Frozen<br/>\n",
    ">>Iron Man 3<br/>\n",
    ">>Minions<br/>\n",
    ">>Captain America: Civil War <br/><br/>\n",
    ">> **TOP 10 popular:** <br/>\n",
    ">>Minions<br/>\n",
    ">>Interstellar<br/>\n",
    ">>Deadpool<br/>\n",
    ">>Guardians of the Galaxy<br/>\n",
    ">>Mad Max: Fury Road<br/>\n",
    ">>Jurassic World<br/>\n",
    ">>Pirates of the Caribbean: The Curse of the Black Pearl<br/>\n",
    ">>Dawn of the Planet of the Apes<br/>\n",
    ">>The Hunger Games: Mockingjay - Part 1<br/>\n",
    ">>Big Hero 6<br/><br/>\n",
    ">>**TOP 10 rated:** <br/>\n",
    ">>Dancer, Texas Pop. 81<br/>\n",
    ">>Me You and Five Bucks<br/>\n",
    ">>One Man's Hero<br/>\n",
    ">>The Shawshank Redemption<br/>\n",
    ">>The Prisoner of Zenda<br/>\n",
    ">>The Godfather<br/>\n",
    ">>Fight Club<br/>\n",
    ">>Schindler's List<br/>\n",
    ">>Spirited Away<br/>\n",
    ">>The Godfather: Part II<br/>\n",
    "#### Companies made the overall highest revenue per year:\n",
    "<a href=\"#companies\">Companies</a>\n",
    "#### Relation between popularity and vote_count:\n",
    "> The Distribution is skewed to left , positive relationship\n",
    "#### Relation between the vote_count and vote rate:\n",
    "> No effect of the vote count on the vote rate\n",
    "#### Relation between the budget and the runtime:\n",
    "> No effect of the long runtime on increasing the budget\n",
    "#### Relation between the budget and the revenue:\n",
    "> The Distribution is skewed to the left , positive relationship\n",
    "#### Most Popular Directors and Number of their movies in our dataset:\n",
    ">Steven Spielberg:      27<br/>\n",
    ">Clint Eastwood:        18<br/>\n",
    ">Robert Rodriguez:      15<br/>\n",
    ">Ridley Scott:          15<br/>\n",
    ">Renny Harlin:          15<br/>\n",
    ">Martin Scorsese:       15<br/>\n",
    ">Steven Soderbergh:     14<br/>\n",
    ">Tim Burton:            14<br/>\n",
    ">Oliver Stone:          14<br/>\n",
    ">Woody Allen:           13<br/>\n",
    "#### Average Runtime:\n",
    "> between 100:110 mins , meanly about 106 mins\n",
    "\n",
    "### *Limitations:*\n",
    "1. We have used TMBD Movies dataset for our analysis and worked with popularity, revenue and runtime. Our analysis is limited to only the provided dataset. For example, the dataset does not confirm that every release of every director is listed.<br/>\n",
    "2. There is no normalization or exchange rate or currency conversion is considered during this analysis and our analysis is limited to the numerical values of revenue.<br/>\n",
    "3. Dropping missing or Null values from variables of our interest might skew our analysis and could show unintentional bias towards the relationship being analyzed. etc.<br/>\n",
    "\n",
    "## Resources:\n",
    "\n",
    "<a href='https://pandas.pydata.org/docs/'>Pandas Documentation</a><br/>\n",
    "<a href='https://matplotlib.org/3.3.3/contents.html#'>Matplotlib Documentation</a><br/>\n",
    "<a href='https://numpy.org/doc/1.20/'>Numpy Documentation</a><br/>\n",
    "<a href='https://docs.python.org/3/'>Python Documentation</a><br/>\n",
    "<a href='https://seaborn.pydata.org/'>Seaborn Documentation</a><br/>\n",
    "<a href='https://www.kaggle.com/tmdb/tmdb-movie-metadata'>Kaggle TMDb dataset</a><br/>\n",
    "<a href='http://ipython.readthedocs.io/en/stable/interactive/magics.html'>Notebook Inline magics</a><br/>"
   ]
  },
  {
   "cell_type": "code",
   "execution_count": 60,
   "metadata": {},
   "outputs": [
    {
     "data": {
      "text/plain": [
       "1"
      ]
     },
     "execution_count": 60,
     "metadata": {},
     "output_type": "execute_result"
    }
   ],
   "source": [
    "from subprocess import call\n",
    "call(['python', '-m', 'nbconvert', 'Investigate_a_Dataset(TMDb).ipynb'])"
   ]
  }
 ],
 "metadata": {
  "kernelspec": {
   "display_name": "Python 3",
   "language": "python",
   "name": "python3"
  },
  "language_info": {
   "codemirror_mode": {
    "name": "ipython",
    "version": 3
   },
   "file_extension": ".py",
   "mimetype": "text/x-python",
   "name": "python",
   "nbconvert_exporter": "python",
   "pygments_lexer": "ipython3",
   "version": "3.8.5"
  }
 },
 "nbformat": 4,
 "nbformat_minor": 2
}
